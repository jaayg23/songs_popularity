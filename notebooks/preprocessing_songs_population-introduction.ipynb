{
 "cells": [
  {
   "cell_type": "code",
   "execution_count": 1,
   "id": "9d9c7329",
   "metadata": {},
   "outputs": [],
   "source": [
    "import os\n",
    "import pandas as pd\n",
    "import numpy as np \n",
    "import matplotlib.pyplot as plt"
   ]
  },
  {
   "cell_type": "code",
   "execution_count": 2,
   "id": "3fa509bb",
   "metadata": {},
   "outputs": [
    {
     "data": {
      "text/plain": [
       "'c:\\\\Users\\\\jaayg\\\\OneDrive\\\\Escritorio\\\\data_project\\\\songs_population\\\\notebooks'"
      ]
     },
     "execution_count": 2,
     "metadata": {},
     "output_type": "execute_result"
    }
   ],
   "source": [
    "os.getcwd()"
   ]
  },
  {
   "cell_type": "code",
   "execution_count": 3,
   "id": "c6fb88af",
   "metadata": {},
   "outputs": [],
   "source": [
    "os.chdir('..')"
   ]
  },
  {
   "cell_type": "code",
   "execution_count": 4,
   "id": "299a158e",
   "metadata": {},
   "outputs": [],
   "source": [
    "os.chdir('data')"
   ]
  },
  {
   "cell_type": "code",
   "execution_count": 5,
   "id": "1ea3b465",
   "metadata": {},
   "outputs": [],
   "source": [
    "os.chdir('raw')"
   ]
  },
  {
   "cell_type": "code",
   "execution_count": 6,
   "id": "c44bd205",
   "metadata": {},
   "outputs": [],
   "source": [
    "os.chdir('music_dataset')"
   ]
  },
  {
   "cell_type": "code",
   "execution_count": 7,
   "id": "43eb9f4f",
   "metadata": {},
   "outputs": [
    {
     "data": {
      "text/plain": [
       "'c:\\\\Users\\\\jaayg\\\\OneDrive\\\\Escritorio\\\\data_project\\\\songs_population\\\\data\\\\raw\\\\music_dataset'"
      ]
     },
     "execution_count": 7,
     "metadata": {},
     "output_type": "execute_result"
    }
   ],
   "source": [
    "os.getcwd()"
   ]
  },
  {
   "cell_type": "code",
   "execution_count": 8,
   "id": "37351433",
   "metadata": {},
   "outputs": [],
   "source": [
    "df_songs = pd.read_csv('music_genre.csv')"
   ]
  },
  {
   "cell_type": "code",
   "execution_count": 9,
   "id": "1b385aa5",
   "metadata": {},
   "outputs": [
    {
     "data": {
      "text/html": [
       "<div>\n",
       "<style scoped>\n",
       "    .dataframe tbody tr th:only-of-type {\n",
       "        vertical-align: middle;\n",
       "    }\n",
       "\n",
       "    .dataframe tbody tr th {\n",
       "        vertical-align: top;\n",
       "    }\n",
       "\n",
       "    .dataframe thead th {\n",
       "        text-align: right;\n",
       "    }\n",
       "</style>\n",
       "<table border=\"1\" class=\"dataframe\">\n",
       "  <thead>\n",
       "    <tr style=\"text-align: right;\">\n",
       "      <th></th>\n",
       "      <th>instance_id</th>\n",
       "      <th>artist_name</th>\n",
       "      <th>track_name</th>\n",
       "      <th>popularity</th>\n",
       "      <th>acousticness</th>\n",
       "      <th>danceability</th>\n",
       "      <th>duration_ms</th>\n",
       "      <th>energy</th>\n",
       "      <th>instrumentalness</th>\n",
       "      <th>key</th>\n",
       "      <th>liveness</th>\n",
       "      <th>loudness</th>\n",
       "      <th>mode</th>\n",
       "      <th>speechiness</th>\n",
       "      <th>tempo</th>\n",
       "      <th>obtained_date</th>\n",
       "      <th>valence</th>\n",
       "      <th>music_genre</th>\n",
       "    </tr>\n",
       "  </thead>\n",
       "  <tbody>\n",
       "    <tr>\n",
       "      <th>0</th>\n",
       "      <td>32894.0</td>\n",
       "      <td>Röyksopp</td>\n",
       "      <td>Röyksopp's Night Out</td>\n",
       "      <td>27.0</td>\n",
       "      <td>0.00468</td>\n",
       "      <td>0.652</td>\n",
       "      <td>-1.0</td>\n",
       "      <td>0.941</td>\n",
       "      <td>0.79200</td>\n",
       "      <td>A#</td>\n",
       "      <td>0.115</td>\n",
       "      <td>-5.201</td>\n",
       "      <td>Minor</td>\n",
       "      <td>0.0748</td>\n",
       "      <td>100.889</td>\n",
       "      <td>4-Apr</td>\n",
       "      <td>0.759</td>\n",
       "      <td>Electronic</td>\n",
       "    </tr>\n",
       "    <tr>\n",
       "      <th>1</th>\n",
       "      <td>46652.0</td>\n",
       "      <td>Thievery Corporation</td>\n",
       "      <td>The Shining Path</td>\n",
       "      <td>31.0</td>\n",
       "      <td>0.01270</td>\n",
       "      <td>0.622</td>\n",
       "      <td>218293.0</td>\n",
       "      <td>0.890</td>\n",
       "      <td>0.95000</td>\n",
       "      <td>D</td>\n",
       "      <td>0.124</td>\n",
       "      <td>-7.043</td>\n",
       "      <td>Minor</td>\n",
       "      <td>0.0300</td>\n",
       "      <td>115.00200000000001</td>\n",
       "      <td>4-Apr</td>\n",
       "      <td>0.531</td>\n",
       "      <td>Electronic</td>\n",
       "    </tr>\n",
       "    <tr>\n",
       "      <th>2</th>\n",
       "      <td>30097.0</td>\n",
       "      <td>Dillon Francis</td>\n",
       "      <td>Hurricane</td>\n",
       "      <td>28.0</td>\n",
       "      <td>0.00306</td>\n",
       "      <td>0.620</td>\n",
       "      <td>215613.0</td>\n",
       "      <td>0.755</td>\n",
       "      <td>0.01180</td>\n",
       "      <td>G#</td>\n",
       "      <td>0.534</td>\n",
       "      <td>-4.617</td>\n",
       "      <td>Major</td>\n",
       "      <td>0.0345</td>\n",
       "      <td>127.994</td>\n",
       "      <td>4-Apr</td>\n",
       "      <td>0.333</td>\n",
       "      <td>Electronic</td>\n",
       "    </tr>\n",
       "    <tr>\n",
       "      <th>3</th>\n",
       "      <td>62177.0</td>\n",
       "      <td>Dubloadz</td>\n",
       "      <td>Nitro</td>\n",
       "      <td>34.0</td>\n",
       "      <td>0.02540</td>\n",
       "      <td>0.774</td>\n",
       "      <td>166875.0</td>\n",
       "      <td>0.700</td>\n",
       "      <td>0.00253</td>\n",
       "      <td>C#</td>\n",
       "      <td>0.157</td>\n",
       "      <td>-4.498</td>\n",
       "      <td>Major</td>\n",
       "      <td>0.2390</td>\n",
       "      <td>128.014</td>\n",
       "      <td>4-Apr</td>\n",
       "      <td>0.270</td>\n",
       "      <td>Electronic</td>\n",
       "    </tr>\n",
       "    <tr>\n",
       "      <th>4</th>\n",
       "      <td>24907.0</td>\n",
       "      <td>What So Not</td>\n",
       "      <td>Divide &amp; Conquer</td>\n",
       "      <td>32.0</td>\n",
       "      <td>0.00465</td>\n",
       "      <td>0.638</td>\n",
       "      <td>222369.0</td>\n",
       "      <td>0.587</td>\n",
       "      <td>0.90900</td>\n",
       "      <td>F#</td>\n",
       "      <td>0.157</td>\n",
       "      <td>-6.266</td>\n",
       "      <td>Major</td>\n",
       "      <td>0.0413</td>\n",
       "      <td>145.036</td>\n",
       "      <td>4-Apr</td>\n",
       "      <td>0.323</td>\n",
       "      <td>Electronic</td>\n",
       "    </tr>\n",
       "  </tbody>\n",
       "</table>\n",
       "</div>"
      ],
      "text/plain": [
       "   instance_id           artist_name            track_name  popularity  \\\n",
       "0      32894.0              Röyksopp  Röyksopp's Night Out        27.0   \n",
       "1      46652.0  Thievery Corporation      The Shining Path        31.0   \n",
       "2      30097.0        Dillon Francis             Hurricane        28.0   \n",
       "3      62177.0              Dubloadz                 Nitro        34.0   \n",
       "4      24907.0           What So Not      Divide & Conquer        32.0   \n",
       "\n",
       "   acousticness  danceability  duration_ms  energy  instrumentalness key  \\\n",
       "0       0.00468         0.652         -1.0   0.941           0.79200  A#   \n",
       "1       0.01270         0.622     218293.0   0.890           0.95000   D   \n",
       "2       0.00306         0.620     215613.0   0.755           0.01180  G#   \n",
       "3       0.02540         0.774     166875.0   0.700           0.00253  C#   \n",
       "4       0.00465         0.638     222369.0   0.587           0.90900  F#   \n",
       "\n",
       "   liveness  loudness   mode  speechiness               tempo obtained_date  \\\n",
       "0     0.115    -5.201  Minor       0.0748             100.889         4-Apr   \n",
       "1     0.124    -7.043  Minor       0.0300  115.00200000000001         4-Apr   \n",
       "2     0.534    -4.617  Major       0.0345             127.994         4-Apr   \n",
       "3     0.157    -4.498  Major       0.2390             128.014         4-Apr   \n",
       "4     0.157    -6.266  Major       0.0413             145.036         4-Apr   \n",
       "\n",
       "   valence music_genre  \n",
       "0    0.759  Electronic  \n",
       "1    0.531  Electronic  \n",
       "2    0.333  Electronic  \n",
       "3    0.270  Electronic  \n",
       "4    0.323  Electronic  "
      ]
     },
     "execution_count": 9,
     "metadata": {},
     "output_type": "execute_result"
    }
   ],
   "source": [
    "df_songs.head()"
   ]
  },
  {
   "cell_type": "markdown",
   "id": "a50d8274",
   "metadata": {},
   "source": [
    "Observamos que los siguientes datos tienen 5 filas 'vacias', Pero todos estan casi completos"
   ]
  },
  {
   "cell_type": "code",
   "execution_count": 10,
   "id": "ace09d01",
   "metadata": {},
   "outputs": [
    {
     "name": "stdout",
     "output_type": "stream",
     "text": [
      "<class 'pandas.core.frame.DataFrame'>\n",
      "RangeIndex: 50005 entries, 0 to 50004\n",
      "Data columns (total 18 columns):\n",
      " #   Column            Non-Null Count  Dtype  \n",
      "---  ------            --------------  -----  \n",
      " 0   instance_id       50000 non-null  float64\n",
      " 1   artist_name       50000 non-null  object \n",
      " 2   track_name        50000 non-null  object \n",
      " 3   popularity        50000 non-null  float64\n",
      " 4   acousticness      50000 non-null  float64\n",
      " 5   danceability      50000 non-null  float64\n",
      " 6   duration_ms       50000 non-null  float64\n",
      " 7   energy            50000 non-null  float64\n",
      " 8   instrumentalness  50000 non-null  float64\n",
      " 9   key               50000 non-null  object \n",
      " 10  liveness          50000 non-null  float64\n",
      " 11  loudness          50000 non-null  float64\n",
      " 12  mode              50000 non-null  object \n",
      " 13  speechiness       50000 non-null  float64\n",
      " 14  tempo             50000 non-null  object \n",
      " 15  obtained_date     50000 non-null  object \n",
      " 16  valence           50000 non-null  float64\n",
      " 17  music_genre       50000 non-null  object \n",
      "dtypes: float64(11), object(7)\n",
      "memory usage: 6.9+ MB\n"
     ]
    }
   ],
   "source": [
    "df_songs.info()"
   ]
  },
  {
   "cell_type": "code",
   "execution_count": 11,
   "id": "cdefb3b3",
   "metadata": {},
   "outputs": [],
   "source": [
    "df_songs = df_songs.dropna(axis=0)"
   ]
  },
  {
   "cell_type": "code",
   "execution_count": 12,
   "id": "fb559943",
   "metadata": {},
   "outputs": [
    {
     "name": "stdout",
     "output_type": "stream",
     "text": [
      "<class 'pandas.core.frame.DataFrame'>\n",
      "Int64Index: 50000 entries, 0 to 50004\n",
      "Data columns (total 18 columns):\n",
      " #   Column            Non-Null Count  Dtype  \n",
      "---  ------            --------------  -----  \n",
      " 0   instance_id       50000 non-null  float64\n",
      " 1   artist_name       50000 non-null  object \n",
      " 2   track_name        50000 non-null  object \n",
      " 3   popularity        50000 non-null  float64\n",
      " 4   acousticness      50000 non-null  float64\n",
      " 5   danceability      50000 non-null  float64\n",
      " 6   duration_ms       50000 non-null  float64\n",
      " 7   energy            50000 non-null  float64\n",
      " 8   instrumentalness  50000 non-null  float64\n",
      " 9   key               50000 non-null  object \n",
      " 10  liveness          50000 non-null  float64\n",
      " 11  loudness          50000 non-null  float64\n",
      " 12  mode              50000 non-null  object \n",
      " 13  speechiness       50000 non-null  float64\n",
      " 14  tempo             50000 non-null  object \n",
      " 15  obtained_date     50000 non-null  object \n",
      " 16  valence           50000 non-null  float64\n",
      " 17  music_genre       50000 non-null  object \n",
      "dtypes: float64(11), object(7)\n",
      "memory usage: 7.2+ MB\n"
     ]
    }
   ],
   "source": [
    "df_songs.info()"
   ]
  },
  {
   "cell_type": "markdown",
   "id": "2f8b0743",
   "metadata": {},
   "source": [
    "## Analizamos variables y las modificamos"
   ]
  },
  {
   "cell_type": "code",
   "execution_count": 13,
   "id": "41fad3c1",
   "metadata": {},
   "outputs": [
    {
     "data": {
      "text/plain": [
       "array(['A#', 'D', 'G#', 'C#', 'F#', 'B', 'G', 'F', 'A', 'C', 'E', 'D#'],\n",
       "      dtype=object)"
      ]
     },
     "execution_count": 13,
     "metadata": {},
     "output_type": "execute_result"
    }
   ],
   "source": [
    "df_songs['key'].unique()"
   ]
  },
  {
   "cell_type": "code",
   "execution_count": 14,
   "id": "6a9a44ac",
   "metadata": {},
   "outputs": [
    {
     "data": {
      "text/html": [
       "<div>\n",
       "<style scoped>\n",
       "    .dataframe tbody tr th:only-of-type {\n",
       "        vertical-align: middle;\n",
       "    }\n",
       "\n",
       "    .dataframe tbody tr th {\n",
       "        vertical-align: top;\n",
       "    }\n",
       "\n",
       "    .dataframe thead th {\n",
       "        text-align: right;\n",
       "    }\n",
       "</style>\n",
       "<table border=\"1\" class=\"dataframe\">\n",
       "  <thead>\n",
       "    <tr style=\"text-align: right;\">\n",
       "      <th></th>\n",
       "      <th>tempo</th>\n",
       "      <th>obtained_date</th>\n",
       "      <th>mode</th>\n",
       "    </tr>\n",
       "  </thead>\n",
       "  <tbody>\n",
       "    <tr>\n",
       "      <th>0</th>\n",
       "      <td>100.889</td>\n",
       "      <td>4-Apr</td>\n",
       "      <td>Minor</td>\n",
       "    </tr>\n",
       "    <tr>\n",
       "      <th>1</th>\n",
       "      <td>115.00200000000001</td>\n",
       "      <td>4-Apr</td>\n",
       "      <td>Minor</td>\n",
       "    </tr>\n",
       "    <tr>\n",
       "      <th>2</th>\n",
       "      <td>127.994</td>\n",
       "      <td>4-Apr</td>\n",
       "      <td>Major</td>\n",
       "    </tr>\n",
       "    <tr>\n",
       "      <th>3</th>\n",
       "      <td>128.014</td>\n",
       "      <td>4-Apr</td>\n",
       "      <td>Major</td>\n",
       "    </tr>\n",
       "    <tr>\n",
       "      <th>4</th>\n",
       "      <td>145.036</td>\n",
       "      <td>4-Apr</td>\n",
       "      <td>Major</td>\n",
       "    </tr>\n",
       "    <tr>\n",
       "      <th>...</th>\n",
       "      <td>...</td>\n",
       "      <td>...</td>\n",
       "      <td>...</td>\n",
       "    </tr>\n",
       "    <tr>\n",
       "      <th>50000</th>\n",
       "      <td>98.02799999999999</td>\n",
       "      <td>4-Apr</td>\n",
       "      <td>Major</td>\n",
       "    </tr>\n",
       "    <tr>\n",
       "      <th>50001</th>\n",
       "      <td>122.04299999999999</td>\n",
       "      <td>4-Apr</td>\n",
       "      <td>Major</td>\n",
       "    </tr>\n",
       "    <tr>\n",
       "      <th>50002</th>\n",
       "      <td>131.079</td>\n",
       "      <td>4-Apr</td>\n",
       "      <td>Major</td>\n",
       "    </tr>\n",
       "    <tr>\n",
       "      <th>50003</th>\n",
       "      <td>75.88600000000001</td>\n",
       "      <td>4-Apr</td>\n",
       "      <td>Minor</td>\n",
       "    </tr>\n",
       "    <tr>\n",
       "      <th>50004</th>\n",
       "      <td>99.20100000000001</td>\n",
       "      <td>4-Apr</td>\n",
       "      <td>Minor</td>\n",
       "    </tr>\n",
       "  </tbody>\n",
       "</table>\n",
       "<p>50000 rows × 3 columns</p>\n",
       "</div>"
      ],
      "text/plain": [
       "                    tempo obtained_date   mode\n",
       "0                 100.889         4-Apr  Minor\n",
       "1      115.00200000000001         4-Apr  Minor\n",
       "2                 127.994         4-Apr  Major\n",
       "3                 128.014         4-Apr  Major\n",
       "4                 145.036         4-Apr  Major\n",
       "...                   ...           ...    ...\n",
       "50000   98.02799999999999         4-Apr  Major\n",
       "50001  122.04299999999999         4-Apr  Major\n",
       "50002             131.079         4-Apr  Major\n",
       "50003   75.88600000000001         4-Apr  Minor\n",
       "50004   99.20100000000001         4-Apr  Minor\n",
       "\n",
       "[50000 rows x 3 columns]"
      ]
     },
     "execution_count": 14,
     "metadata": {},
     "output_type": "execute_result"
    }
   ],
   "source": [
    "df_songs[['tempo', 'obtained_date','mode']]"
   ]
  },
  {
   "cell_type": "markdown",
   "id": "e3a660fa",
   "metadata": {},
   "source": [
    "Tempo vemos que es una variable de tipo string que queremos pasar a numerica"
   ]
  },
  {
   "cell_type": "code",
   "execution_count": 15,
   "id": "79862767",
   "metadata": {},
   "outputs": [
    {
     "name": "stdout",
     "output_type": "stream",
     "text": [
      "['?']\n"
     ]
    }
   ],
   "source": [
    "# We want to observete what's happening with the 'tempo' column\n",
    "col_convertida = pd.to_numeric(df_songs['tempo'], errors='coerce')\n",
    "\n",
    "# Encuentra los valores que no pudieron convertirse (son NaN después de la conversión)\n",
    "valores_invalidos = df_songs[col_convertida.isna()]['tempo'].unique()\n",
    "print(valores_invalidos)"
   ]
  },
  {
   "cell_type": "markdown",
   "id": "d3e9d06e",
   "metadata": {},
   "source": [
    "Observamos que hay un valor no numérico en la columna 'tempo', que es '?'. Vamos a eliminarlo."
   ]
  },
  {
   "cell_type": "code",
   "execution_count": 16,
   "id": "953be5aa",
   "metadata": {},
   "outputs": [],
   "source": [
    "df_songs['tempo'] = pd.to_numeric(df_songs['tempo'], errors='coerce').round(3)"
   ]
  },
  {
   "cell_type": "code",
   "execution_count": 17,
   "id": "1890ac05",
   "metadata": {},
   "outputs": [
    {
     "name": "stdout",
     "output_type": "stream",
     "text": [
      "<class 'pandas.core.frame.DataFrame'>\n",
      "Int64Index: 50000 entries, 0 to 50004\n",
      "Data columns (total 18 columns):\n",
      " #   Column            Non-Null Count  Dtype  \n",
      "---  ------            --------------  -----  \n",
      " 0   instance_id       50000 non-null  float64\n",
      " 1   artist_name       50000 non-null  object \n",
      " 2   track_name        50000 non-null  object \n",
      " 3   popularity        50000 non-null  float64\n",
      " 4   acousticness      50000 non-null  float64\n",
      " 5   danceability      50000 non-null  float64\n",
      " 6   duration_ms       50000 non-null  float64\n",
      " 7   energy            50000 non-null  float64\n",
      " 8   instrumentalness  50000 non-null  float64\n",
      " 9   key               50000 non-null  object \n",
      " 10  liveness          50000 non-null  float64\n",
      " 11  loudness          50000 non-null  float64\n",
      " 12  mode              50000 non-null  object \n",
      " 13  speechiness       50000 non-null  float64\n",
      " 14  tempo             45020 non-null  float64\n",
      " 15  obtained_date     50000 non-null  object \n",
      " 16  valence           50000 non-null  float64\n",
      " 17  music_genre       50000 non-null  object \n",
      "dtypes: float64(12), object(6)\n",
      "memory usage: 7.2+ MB\n"
     ]
    }
   ],
   "source": [
    "df_songs.info()"
   ]
  },
  {
   "cell_type": "code",
   "execution_count": 18,
   "id": "9b9e628f",
   "metadata": {},
   "outputs": [
    {
     "data": {
      "text/plain": [
       "array(['Minor', 'Major'], dtype=object)"
      ]
     },
     "execution_count": 18,
     "metadata": {},
     "output_type": "execute_result"
    }
   ],
   "source": [
    "df_songs['mode'].unique()"
   ]
  },
  {
   "cell_type": "markdown",
   "id": "1af742c7",
   "metadata": {},
   "source": [
    "Redefinimos la variable tempo, pero ahora hay valores faltantes que hay que evaluar"
   ]
  },
  {
   "cell_type": "code",
   "execution_count": 19,
   "id": "0f4d3dd6",
   "metadata": {},
   "outputs": [],
   "source": [
    "df_songs = df_songs.dropna(axis=0)"
   ]
  },
  {
   "cell_type": "code",
   "execution_count": 20,
   "id": "a081d5b3",
   "metadata": {},
   "outputs": [
    {
     "name": "stdout",
     "output_type": "stream",
     "text": [
      "<class 'pandas.core.frame.DataFrame'>\n",
      "Int64Index: 45020 entries, 0 to 50004\n",
      "Data columns (total 18 columns):\n",
      " #   Column            Non-Null Count  Dtype  \n",
      "---  ------            --------------  -----  \n",
      " 0   instance_id       45020 non-null  float64\n",
      " 1   artist_name       45020 non-null  object \n",
      " 2   track_name        45020 non-null  object \n",
      " 3   popularity        45020 non-null  float64\n",
      " 4   acousticness      45020 non-null  float64\n",
      " 5   danceability      45020 non-null  float64\n",
      " 6   duration_ms       45020 non-null  float64\n",
      " 7   energy            45020 non-null  float64\n",
      " 8   instrumentalness  45020 non-null  float64\n",
      " 9   key               45020 non-null  object \n",
      " 10  liveness          45020 non-null  float64\n",
      " 11  loudness          45020 non-null  float64\n",
      " 12  mode              45020 non-null  object \n",
      " 13  speechiness       45020 non-null  float64\n",
      " 14  tempo             45020 non-null  float64\n",
      " 15  obtained_date     45020 non-null  object \n",
      " 16  valence           45020 non-null  float64\n",
      " 17  music_genre       45020 non-null  object \n",
      "dtypes: float64(12), object(6)\n",
      "memory usage: 6.5+ MB\n"
     ]
    }
   ],
   "source": [
    "df_songs.info()"
   ]
  },
  {
   "cell_type": "code",
   "execution_count": 21,
   "id": "b06edd30",
   "metadata": {},
   "outputs": [
    {
     "data": {
      "text/html": [
       "<div>\n",
       "<style scoped>\n",
       "    .dataframe tbody tr th:only-of-type {\n",
       "        vertical-align: middle;\n",
       "    }\n",
       "\n",
       "    .dataframe tbody tr th {\n",
       "        vertical-align: top;\n",
       "    }\n",
       "\n",
       "    .dataframe thead th {\n",
       "        text-align: right;\n",
       "    }\n",
       "</style>\n",
       "<table border=\"1\" class=\"dataframe\">\n",
       "  <thead>\n",
       "    <tr style=\"text-align: right;\">\n",
       "      <th></th>\n",
       "      <th>instance_id</th>\n",
       "      <th>popularity</th>\n",
       "      <th>acousticness</th>\n",
       "      <th>danceability</th>\n",
       "      <th>duration_ms</th>\n",
       "      <th>energy</th>\n",
       "      <th>instrumentalness</th>\n",
       "      <th>liveness</th>\n",
       "      <th>loudness</th>\n",
       "      <th>speechiness</th>\n",
       "      <th>tempo</th>\n",
       "      <th>valence</th>\n",
       "    </tr>\n",
       "  </thead>\n",
       "  <tbody>\n",
       "    <tr>\n",
       "      <th>count</th>\n",
       "      <td>45020.000000</td>\n",
       "      <td>45020.000000</td>\n",
       "      <td>45020.000000</td>\n",
       "      <td>45020.000000</td>\n",
       "      <td>4.502000e+04</td>\n",
       "      <td>45020.000000</td>\n",
       "      <td>45020.000000</td>\n",
       "      <td>45020.000000</td>\n",
       "      <td>45020.000000</td>\n",
       "      <td>45020.000000</td>\n",
       "      <td>45020.000000</td>\n",
       "      <td>45020.000000</td>\n",
       "    </tr>\n",
       "    <tr>\n",
       "      <th>mean</th>\n",
       "      <td>55884.691892</td>\n",
       "      <td>44.263327</td>\n",
       "      <td>0.306596</td>\n",
       "      <td>0.558532</td>\n",
       "      <td>2.211695e+05</td>\n",
       "      <td>0.599553</td>\n",
       "      <td>0.181843</td>\n",
       "      <td>0.193951</td>\n",
       "      <td>-9.137016</td>\n",
       "      <td>0.093783</td>\n",
       "      <td>119.952961</td>\n",
       "      <td>0.456394</td>\n",
       "    </tr>\n",
       "    <tr>\n",
       "      <th>std</th>\n",
       "      <td>20728.197040</td>\n",
       "      <td>15.553972</td>\n",
       "      <td>0.341391</td>\n",
       "      <td>0.178858</td>\n",
       "      <td>1.276884e+05</td>\n",
       "      <td>0.264510</td>\n",
       "      <td>0.325847</td>\n",
       "      <td>0.161715</td>\n",
       "      <td>6.156400</td>\n",
       "      <td>0.101469</td>\n",
       "      <td>30.641701</td>\n",
       "      <td>0.247161</td>\n",
       "    </tr>\n",
       "    <tr>\n",
       "      <th>min</th>\n",
       "      <td>20002.000000</td>\n",
       "      <td>0.000000</td>\n",
       "      <td>0.000000</td>\n",
       "      <td>0.059600</td>\n",
       "      <td>-1.000000e+00</td>\n",
       "      <td>0.000792</td>\n",
       "      <td>0.000000</td>\n",
       "      <td>0.009670</td>\n",
       "      <td>-47.046000</td>\n",
       "      <td>0.022300</td>\n",
       "      <td>34.347000</td>\n",
       "      <td>0.000000</td>\n",
       "    </tr>\n",
       "    <tr>\n",
       "      <th>25%</th>\n",
       "      <td>38000.750000</td>\n",
       "      <td>34.000000</td>\n",
       "      <td>0.020100</td>\n",
       "      <td>0.442000</td>\n",
       "      <td>1.747230e+05</td>\n",
       "      <td>0.432000</td>\n",
       "      <td>0.000000</td>\n",
       "      <td>0.096900</td>\n",
       "      <td>-10.860000</td>\n",
       "      <td>0.036100</td>\n",
       "      <td>94.941500</td>\n",
       "      <td>0.257000</td>\n",
       "    </tr>\n",
       "    <tr>\n",
       "      <th>50%</th>\n",
       "      <td>55857.500000</td>\n",
       "      <td>45.000000</td>\n",
       "      <td>0.145000</td>\n",
       "      <td>0.568000</td>\n",
       "      <td>2.194385e+05</td>\n",
       "      <td>0.642000</td>\n",
       "      <td>0.000159</td>\n",
       "      <td>0.126000</td>\n",
       "      <td>-7.284000</td>\n",
       "      <td>0.048900</td>\n",
       "      <td>119.879000</td>\n",
       "      <td>0.448000</td>\n",
       "    </tr>\n",
       "    <tr>\n",
       "      <th>75%</th>\n",
       "      <td>73856.500000</td>\n",
       "      <td>56.000000</td>\n",
       "      <td>0.551000</td>\n",
       "      <td>0.687000</td>\n",
       "      <td>2.686400e+05</td>\n",
       "      <td>0.815250</td>\n",
       "      <td>0.154000</td>\n",
       "      <td>0.244000</td>\n",
       "      <td>-5.177000</td>\n",
       "      <td>0.098800</td>\n",
       "      <td>140.471250</td>\n",
       "      <td>0.648000</td>\n",
       "    </tr>\n",
       "    <tr>\n",
       "      <th>max</th>\n",
       "      <td>91759.000000</td>\n",
       "      <td>99.000000</td>\n",
       "      <td>0.996000</td>\n",
       "      <td>0.986000</td>\n",
       "      <td>4.497994e+06</td>\n",
       "      <td>0.999000</td>\n",
       "      <td>0.996000</td>\n",
       "      <td>1.000000</td>\n",
       "      <td>3.744000</td>\n",
       "      <td>0.942000</td>\n",
       "      <td>220.276000</td>\n",
       "      <td>0.992000</td>\n",
       "    </tr>\n",
       "  </tbody>\n",
       "</table>\n",
       "</div>"
      ],
      "text/plain": [
       "        instance_id    popularity  acousticness  danceability   duration_ms  \\\n",
       "count  45020.000000  45020.000000  45020.000000  45020.000000  4.502000e+04   \n",
       "mean   55884.691892     44.263327      0.306596      0.558532  2.211695e+05   \n",
       "std    20728.197040     15.553972      0.341391      0.178858  1.276884e+05   \n",
       "min    20002.000000      0.000000      0.000000      0.059600 -1.000000e+00   \n",
       "25%    38000.750000     34.000000      0.020100      0.442000  1.747230e+05   \n",
       "50%    55857.500000     45.000000      0.145000      0.568000  2.194385e+05   \n",
       "75%    73856.500000     56.000000      0.551000      0.687000  2.686400e+05   \n",
       "max    91759.000000     99.000000      0.996000      0.986000  4.497994e+06   \n",
       "\n",
       "             energy  instrumentalness      liveness      loudness  \\\n",
       "count  45020.000000      45020.000000  45020.000000  45020.000000   \n",
       "mean       0.599553          0.181843      0.193951     -9.137016   \n",
       "std        0.264510          0.325847      0.161715      6.156400   \n",
       "min        0.000792          0.000000      0.009670    -47.046000   \n",
       "25%        0.432000          0.000000      0.096900    -10.860000   \n",
       "50%        0.642000          0.000159      0.126000     -7.284000   \n",
       "75%        0.815250          0.154000      0.244000     -5.177000   \n",
       "max        0.999000          0.996000      1.000000      3.744000   \n",
       "\n",
       "        speechiness         tempo       valence  \n",
       "count  45020.000000  45020.000000  45020.000000  \n",
       "mean       0.093783    119.952961      0.456394  \n",
       "std        0.101469     30.641701      0.247161  \n",
       "min        0.022300     34.347000      0.000000  \n",
       "25%        0.036100     94.941500      0.257000  \n",
       "50%        0.048900    119.879000      0.448000  \n",
       "75%        0.098800    140.471250      0.648000  \n",
       "max        0.942000    220.276000      0.992000  "
      ]
     },
     "execution_count": 21,
     "metadata": {},
     "output_type": "execute_result"
    }
   ],
   "source": [
    "df_songs.describe()"
   ]
  },
  {
   "cell_type": "markdown",
   "id": "84064cea",
   "metadata": {},
   "source": [
    "Vemos que hay valores atipicos en la duracion de las canciones pues no tiene sentido que haya valores negativos en esta columna"
   ]
  },
  {
   "cell_type": "code",
   "execution_count": 22,
   "id": "a928a186",
   "metadata": {},
   "outputs": [
    {
     "data": {
      "image/png": "[encoded data removed]",
      "text/plain": [
       "<Figure size 1200x800 with 12 Axes>"
      ]
     },
     "metadata": {},
     "output_type": "display_data"
    }
   ],
   "source": [
    "#Visualize the distribution of the columns\n",
    "df_songs.hist(bins=30, figsize=(12, 8))\n",
    "plt.tight_layout()\n",
    "plt.show()"
   ]
  },
  {
   "cell_type": "markdown",
   "id": "f1efc1ee",
   "metadata": {},
   "source": [
    "Decidimos borrar la columna duration ya que es una columna que no nos va a aportar mucha informacion si tratamos de corregirla, pues la mayoria de los datos se encuentran en un rango invalido."
   ]
  },
  {
   "cell_type": "code",
   "execution_count": 23,
   "id": "2d838404",
   "metadata": {},
   "outputs": [],
   "source": [
    "df_songs = df_songs.drop(columns=['duration_ms'])"
   ]
  },
  {
   "cell_type": "code",
   "execution_count": 24,
   "id": "70cf0d06",
   "metadata": {},
   "outputs": [
    {
     "name": "stdout",
     "output_type": "stream",
     "text": [
      "<class 'pandas.core.frame.DataFrame'>\n",
      "Int64Index: 45020 entries, 0 to 50004\n",
      "Data columns (total 17 columns):\n",
      " #   Column            Non-Null Count  Dtype  \n",
      "---  ------            --------------  -----  \n",
      " 0   instance_id       45020 non-null  float64\n",
      " 1   artist_name       45020 non-null  object \n",
      " 2   track_name        45020 non-null  object \n",
      " 3   popularity        45020 non-null  float64\n",
      " 4   acousticness      45020 non-null  float64\n",
      " 5   danceability      45020 non-null  float64\n",
      " 6   energy            45020 non-null  float64\n",
      " 7   instrumentalness  45020 non-null  float64\n",
      " 8   key               45020 non-null  object \n",
      " 9   liveness          45020 non-null  float64\n",
      " 10  loudness          45020 non-null  float64\n",
      " 11  mode              45020 non-null  object \n",
      " 12  speechiness       45020 non-null  float64\n",
      " 13  tempo             45020 non-null  float64\n",
      " 14  obtained_date     45020 non-null  object \n",
      " 15  valence           45020 non-null  float64\n",
      " 16  music_genre       45020 non-null  object \n",
      "dtypes: float64(11), object(6)\n",
      "memory usage: 6.2+ MB\n"
     ]
    }
   ],
   "source": [
    "df_songs.info()"
   ]
  },
  {
   "cell_type": "markdown",
   "id": "d98eef1c",
   "metadata": {},
   "source": [
    "## Analicemos que variables seran utiles para el modelo"
   ]
  },
  {
   "cell_type": "markdown",
   "id": "35eef5de",
   "metadata": {},
   "source": [
    "Dado que el nombre de la cancion, el artista y la fecha no nos interesan tando debemos hacer un nuevo dataset con las variables de interes"
   ]
  },
  {
   "cell_type": "code",
   "execution_count": 25,
   "id": "c363779a",
   "metadata": {},
   "outputs": [
    {
     "data": {
      "text/html": [
       "<div>\n",
       "<style scoped>\n",
       "    .dataframe tbody tr th:only-of-type {\n",
       "        vertical-align: middle;\n",
       "    }\n",
       "\n",
       "    .dataframe tbody tr th {\n",
       "        vertical-align: top;\n",
       "    }\n",
       "\n",
       "    .dataframe thead th {\n",
       "        text-align: right;\n",
       "    }\n",
       "</style>\n",
       "<table border=\"1\" class=\"dataframe\">\n",
       "  <thead>\n",
       "    <tr style=\"text-align: right;\">\n",
       "      <th></th>\n",
       "      <th>popularity</th>\n",
       "      <th>acousticness</th>\n",
       "      <th>danceability</th>\n",
       "      <th>energy</th>\n",
       "      <th>instrumentalness</th>\n",
       "      <th>key</th>\n",
       "      <th>liveness</th>\n",
       "      <th>loudness</th>\n",
       "      <th>mode</th>\n",
       "      <th>speechiness</th>\n",
       "      <th>tempo</th>\n",
       "      <th>valence</th>\n",
       "      <th>music_genre</th>\n",
       "    </tr>\n",
       "  </thead>\n",
       "  <tbody>\n",
       "    <tr>\n",
       "      <th>0</th>\n",
       "      <td>27.0</td>\n",
       "      <td>0.00468</td>\n",
       "      <td>0.652</td>\n",
       "      <td>0.941</td>\n",
       "      <td>0.79200</td>\n",
       "      <td>A#</td>\n",
       "      <td>0.115</td>\n",
       "      <td>-5.201</td>\n",
       "      <td>Minor</td>\n",
       "      <td>0.0748</td>\n",
       "      <td>100.889</td>\n",
       "      <td>0.759</td>\n",
       "      <td>Electronic</td>\n",
       "    </tr>\n",
       "    <tr>\n",
       "      <th>1</th>\n",
       "      <td>31.0</td>\n",
       "      <td>0.01270</td>\n",
       "      <td>0.622</td>\n",
       "      <td>0.890</td>\n",
       "      <td>0.95000</td>\n",
       "      <td>D</td>\n",
       "      <td>0.124</td>\n",
       "      <td>-7.043</td>\n",
       "      <td>Minor</td>\n",
       "      <td>0.0300</td>\n",
       "      <td>115.002</td>\n",
       "      <td>0.531</td>\n",
       "      <td>Electronic</td>\n",
       "    </tr>\n",
       "    <tr>\n",
       "      <th>2</th>\n",
       "      <td>28.0</td>\n",
       "      <td>0.00306</td>\n",
       "      <td>0.620</td>\n",
       "      <td>0.755</td>\n",
       "      <td>0.01180</td>\n",
       "      <td>G#</td>\n",
       "      <td>0.534</td>\n",
       "      <td>-4.617</td>\n",
       "      <td>Major</td>\n",
       "      <td>0.0345</td>\n",
       "      <td>127.994</td>\n",
       "      <td>0.333</td>\n",
       "      <td>Electronic</td>\n",
       "    </tr>\n",
       "    <tr>\n",
       "      <th>3</th>\n",
       "      <td>34.0</td>\n",
       "      <td>0.02540</td>\n",
       "      <td>0.774</td>\n",
       "      <td>0.700</td>\n",
       "      <td>0.00253</td>\n",
       "      <td>C#</td>\n",
       "      <td>0.157</td>\n",
       "      <td>-4.498</td>\n",
       "      <td>Major</td>\n",
       "      <td>0.2390</td>\n",
       "      <td>128.014</td>\n",
       "      <td>0.270</td>\n",
       "      <td>Electronic</td>\n",
       "    </tr>\n",
       "    <tr>\n",
       "      <th>4</th>\n",
       "      <td>32.0</td>\n",
       "      <td>0.00465</td>\n",
       "      <td>0.638</td>\n",
       "      <td>0.587</td>\n",
       "      <td>0.90900</td>\n",
       "      <td>F#</td>\n",
       "      <td>0.157</td>\n",
       "      <td>-6.266</td>\n",
       "      <td>Major</td>\n",
       "      <td>0.0413</td>\n",
       "      <td>145.036</td>\n",
       "      <td>0.323</td>\n",
       "      <td>Electronic</td>\n",
       "    </tr>\n",
       "  </tbody>\n",
       "</table>\n",
       "</div>"
      ],
      "text/plain": [
       "   popularity  acousticness  danceability  energy  instrumentalness key  \\\n",
       "0        27.0       0.00468         0.652   0.941           0.79200  A#   \n",
       "1        31.0       0.01270         0.622   0.890           0.95000   D   \n",
       "2        28.0       0.00306         0.620   0.755           0.01180  G#   \n",
       "3        34.0       0.02540         0.774   0.700           0.00253  C#   \n",
       "4        32.0       0.00465         0.638   0.587           0.90900  F#   \n",
       "\n",
       "   liveness  loudness   mode  speechiness    tempo  valence music_genre  \n",
       "0     0.115    -5.201  Minor       0.0748  100.889    0.759  Electronic  \n",
       "1     0.124    -7.043  Minor       0.0300  115.002    0.531  Electronic  \n",
       "2     0.534    -4.617  Major       0.0345  127.994    0.333  Electronic  \n",
       "3     0.157    -4.498  Major       0.2390  128.014    0.270  Electronic  \n",
       "4     0.157    -6.266  Major       0.0413  145.036    0.323  Electronic  "
      ]
     },
     "execution_count": 25,
     "metadata": {},
     "output_type": "execute_result"
    }
   ],
   "source": [
    "df = df_songs.drop(columns=['obtained_date', 'instance_id', 'artist_name','track_name'])\n",
    "df.head()"
   ]
  },
  {
   "cell_type": "code",
   "execution_count": 26,
   "id": "6c93c6b5",
   "metadata": {},
   "outputs": [
    {
     "name": "stdout",
     "output_type": "stream",
     "text": [
      "<class 'pandas.core.frame.DataFrame'>\n",
      "Int64Index: 45020 entries, 0 to 50004\n",
      "Data columns (total 13 columns):\n",
      " #   Column            Non-Null Count  Dtype  \n",
      "---  ------            --------------  -----  \n",
      " 0   popularity        45020 non-null  float64\n",
      " 1   acousticness      45020 non-null  float64\n",
      " 2   danceability      45020 non-null  float64\n",
      " 3   energy            45020 non-null  float64\n",
      " 4   instrumentalness  45020 non-null  float64\n",
      " 5   key               45020 non-null  object \n",
      " 6   liveness          45020 non-null  float64\n",
      " 7   loudness          45020 non-null  float64\n",
      " 8   mode              45020 non-null  object \n",
      " 9   speechiness       45020 non-null  float64\n",
      " 10  tempo             45020 non-null  float64\n",
      " 11  valence           45020 non-null  float64\n",
      " 12  music_genre       45020 non-null  object \n",
      "dtypes: float64(10), object(3)\n",
      "memory usage: 4.8+ MB\n"
     ]
    }
   ],
   "source": [
    "df.info()"
   ]
  },
  {
   "cell_type": "markdown",
   "id": "d362a3f4",
   "metadata": {},
   "source": [
    "Guardamos el archivo para trabajar en otros notebooks con el"
   ]
  },
  {
   "cell_type": "code",
   "execution_count": 27,
   "id": "6dec6412",
   "metadata": {},
   "outputs": [
    {
     "data": {
      "text/plain": [
       "'c:\\\\Users\\\\jaayg\\\\OneDrive\\\\Escritorio\\\\data_project\\\\songs_population\\\\data\\\\raw\\\\music_dataset'"
      ]
     },
     "execution_count": 27,
     "metadata": {},
     "output_type": "execute_result"
    }
   ],
   "source": [
    "os.getcwd()"
   ]
  },
  {
   "cell_type": "code",
   "execution_count": 30,
   "id": "e30f9823",
   "metadata": {},
   "outputs": [],
   "source": [
    "os.chdir('..')"
   ]
  },
  {
   "cell_type": "code",
   "execution_count": 31,
   "id": "f6420d9c",
   "metadata": {},
   "outputs": [
    {
     "data": {
      "text/plain": [
       "'c:\\\\Users\\\\jaayg\\\\OneDrive\\\\Escritorio\\\\data_project\\\\songs_population\\\\data\\\\raw'"
      ]
     },
     "execution_count": 31,
     "metadata": {},
     "output_type": "execute_result"
    }
   ],
   "source": [
    "os.getcwd()"
   ]
  },
  {
   "cell_type": "code",
   "execution_count": 33,
   "id": "6397edaf",
   "metadata": {},
   "outputs": [],
   "source": [
    "os.chdir('..')"
   ]
  },
  {
   "cell_type": "code",
   "execution_count": 35,
   "id": "68c7ffc3",
   "metadata": {},
   "outputs": [
    {
     "data": {
      "text/plain": [
       "'c:\\\\Users\\\\jaayg\\\\OneDrive\\\\Escritorio\\\\data_project\\\\songs_population\\\\data'"
      ]
     },
     "execution_count": 35,
     "metadata": {},
     "output_type": "execute_result"
    }
   ],
   "source": [
    "os.getcwd()"
   ]
  },
  {
   "cell_type": "code",
   "execution_count": 38,
   "id": "afc67932",
   "metadata": {},
   "outputs": [],
   "source": [
    "os.chdir('processed')"
   ]
  },
  {
   "cell_type": "code",
   "execution_count": 39,
   "id": "5a80ecea",
   "metadata": {},
   "outputs": [
    {
     "data": {
      "text/plain": [
       "'c:\\\\Users\\\\jaayg\\\\OneDrive\\\\Escritorio\\\\data_project\\\\songs_population\\\\data\\\\processed'"
      ]
     },
     "execution_count": 39,
     "metadata": {},
     "output_type": "execute_result"
    }
   ],
   "source": [
    "os.getcwd()"
   ]
  },
  {
   "cell_type": "code",
   "execution_count": 40,
   "id": "d668945d",
   "metadata": {},
   "outputs": [],
   "source": [
    "df.to_csv('cleaned_music_populatin.csv', index=False)"
   ]
  }
 ],
 "metadata": {
  "kernelspec": {
   "display_name": "base",
   "language": "python",
   "name": "python3"
  },
  "language_info": {
   "codemirror_mode": {
    "name": "ipython",
    "version": 3
   },
   "file_extension": ".py",
   "mimetype": "text/x-python",
   "name": "python",
   "nbconvert_exporter": "python",
   "pygments_lexer": "ipython3",
   "version": "3.10.18"
  }
 },
 "nbformat": 4,
 "nbformat_minor": 5
}
