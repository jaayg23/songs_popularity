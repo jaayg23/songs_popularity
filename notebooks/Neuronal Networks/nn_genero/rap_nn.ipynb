{
 "cells": [
  {
   "cell_type": "code",
   "execution_count": 1,
   "id": "e3ede73f",
   "metadata": {},
   "outputs": [],
   "source": [
    "import pandas as pd \n",
    "from sklearn.model_selection import train_test_split\n",
    "from sklearn.preprocessing import StandardScaler\n",
    "import tensorflow as tf\n",
    "import numpy as np"
   ]
  },
  {
   "cell_type": "code",
   "execution_count": 2,
   "id": "66a045c9",
   "metadata": {},
   "outputs": [],
   "source": [
    "df = pd.read_csv('../../../data/processed/cleaned_music_population.csv')"
   ]
  },
  {
   "cell_type": "code",
   "execution_count": 3,
   "id": "16b84237",
   "metadata": {},
   "outputs": [
    {
     "data": {
      "text/plain": [
       "((4504, 13),\n",
       "        popularity  acousticness  danceability  energy  instrumentalness key  \\\n",
       " 22465        51.0      0.000469         0.683   0.769          0.002260   B   \n",
       " 22466        63.0      0.354000         0.898   0.677          0.000005  C#   \n",
       " 22467        61.0      0.400000         0.578   0.528          0.000000  G#   \n",
       " 22468        71.0      0.000192         0.543   0.952          0.000008  G#   \n",
       " 22469        17.0      0.003550         0.589   0.721          0.032500   G   \n",
       " \n",
       "        liveness  loudness   mode  speechiness    tempo  valence music_genre  \n",
       " 22465     0.303    -7.108  Minor       0.2270  142.827    0.475         Rap  \n",
       " 22466     0.449    -6.907  Major       0.3620  155.020    0.864         Rap  \n",
       " 22467     0.149    -7.169  Major       0.2740   98.555    0.622         Rap  \n",
       " 22468     0.380    -3.650  Major       0.0668  107.942    0.591         Rap  \n",
       " 22469     0.193   -12.145  Major       0.1930   88.049    0.480         Rap  )"
      ]
     },
     "execution_count": 3,
     "metadata": {},
     "output_type": "execute_result"
    }
   ],
   "source": [
    "df_rap = df[df['music_genre'] == 'Rap']\n",
    "df_rap.shape, df_rap.head()"
   ]
  },
  {
   "cell_type": "code",
   "execution_count": 4,
   "id": "d08a3f64",
   "metadata": {},
   "outputs": [
    {
     "data": {
      "text/plain": [
       "((4504, 22), (45020, 13))"
      ]
     },
     "execution_count": 4,
     "metadata": {},
     "output_type": "execute_result"
    }
   ],
   "source": [
    "df_onehot = pd.get_dummies(df_rap, drop_first=True)\n",
    "df_onehot.shape, df.shape"
   ]
  },
  {
   "cell_type": "code",
   "execution_count": 5,
   "id": "8476d63e",
   "metadata": {},
   "outputs": [],
   "source": [
    "#Eliminating outliers\n",
    "df_onehot = df_onehot[df_onehot['popularity'] > 0]"
   ]
  },
  {
   "cell_type": "code",
   "execution_count": 6,
   "id": "ccb6122f",
   "metadata": {},
   "outputs": [],
   "source": [
    "X = df_onehot.drop(columns=['popularity'])\n",
    "y = df_onehot['popularity']\n",
    "\n",
    "X_train, X_test, y_train, y_test = train_test_split(X, y, test_size=0.2)\n",
    "scaler = StandardScaler()\n",
    "\n",
    "X_train_scaled = scaler.fit_transform(X_train)\n",
    "X_test_scaled = scaler.fit_transform(X_test)"
   ]
  },
  {
   "cell_type": "code",
   "execution_count": 7,
   "id": "314136d1",
   "metadata": {},
   "outputs": [],
   "source": [
    "ann = tf.keras.models.Sequential()\n",
    "ann.add(tf.keras.layers.Dense(units=20, activation='relu'))\n",
    "ann.add(tf.keras.layers.Dense(units=20, activation='relu'))"
   ]
  },
  {
   "cell_type": "code",
   "execution_count": 8,
   "id": "cca98b78",
   "metadata": {},
   "outputs": [],
   "source": [
    "ann.add(tf.keras.layers.Dense(units=1, activation='linear'))"
   ]
  },
  {
   "cell_type": "code",
   "execution_count": 9,
   "id": "32cb2409",
   "metadata": {},
   "outputs": [],
   "source": [
    "ann.compile(optimizer='adam', loss='mean_squared_error', metrics=['mean_absolute_error', 'mean_absolute_percentage_error','r'])"
   ]
  },
  {
   "cell_type": "code",
   "execution_count": 11,
   "id": "c99a4c66",
   "metadata": {},
   "outputs": [],
   "source": [
    "ann.compile(optimizer='adam', loss='mean_squared_error', metrics=['mean_absolute_error', 'mean_absolute_percentage_error'])"
   ]
  },
  {
   "cell_type": "code",
   "execution_count": 12,
   "id": "f3f054a7",
   "metadata": {},
   "outputs": [
    {
     "name": "stdout",
     "output_type": "stream",
     "text": [
      "Epoch 1/100\n"
     ]
    },
    {
     "name": "stdout",
     "output_type": "stream",
     "text": [
      "\u001b[1m58/58\u001b[0m \u001b[32m━━━━━━━━━━━━━━━━━━━━\u001b[0m\u001b[37m\u001b[0m \u001b[1m1s\u001b[0m 4ms/step - loss: 3674.1655 - mean_absolute_error: 60.0677 - mean_absolute_percentage_error: 99.0964 - val_loss: 3379.0859 - val_mean_absolute_error: 57.5795 - val_mean_absolute_percentage_error: 95.3218\n",
      "Epoch 2/100\n",
      "\u001b[1m58/58\u001b[0m \u001b[32m━━━━━━━━━━━━━━━━━━━━\u001b[0m\u001b[37m\u001b[0m \u001b[1m0s\u001b[0m 2ms/step - loss: 3297.7795 - mean_absolute_error: 56.8110 - mean_absolute_percentage_error: 93.6461 - val_loss: 2790.6587 - val_mean_absolute_error: 52.1878 - val_mean_absolute_percentage_error: 86.2558\n",
      "Epoch 3/100\n",
      "\u001b[1m58/58\u001b[0m \u001b[32m━━━━━━━━━━━━━━━━━━━━\u001b[0m\u001b[37m\u001b[0m \u001b[1m0s\u001b[0m 2ms/step - loss: 2613.6458 - mean_absolute_error: 50.3150 - mean_absolute_percentage_error: 82.9890 - val_loss: 1858.5292 - val_mean_absolute_error: 42.1485 - val_mean_absolute_percentage_error: 69.3700\n",
      "Epoch 4/100\n",
      "\u001b[1m58/58\u001b[0m \u001b[32m━━━━━━━━━━━━━━━━━━━━\u001b[0m\u001b[37m\u001b[0m \u001b[1m0s\u001b[0m 2ms/step - loss: 1661.5940 - mean_absolute_error: 39.4052 - mean_absolute_percentage_error: 64.3809 - val_loss: 861.7982 - val_mean_absolute_error: 27.4261 - val_mean_absolute_percentage_error: 44.6903\n",
      "Epoch 5/100\n",
      "\u001b[1m58/58\u001b[0m \u001b[32m━━━━━━━━━━━━━━━━━━━━\u001b[0m\u001b[37m\u001b[0m \u001b[1m0s\u001b[0m 2ms/step - loss: 717.6215 - mean_absolute_error: 24.2705 - mean_absolute_percentage_error: 39.3786 - val_loss: 284.9696 - val_mean_absolute_error: 13.8303 - val_mean_absolute_percentage_error: 22.2175\n",
      "Epoch 6/100\n",
      "\u001b[1m58/58\u001b[0m \u001b[32m━━━━━━━━━━━━━━━━━━━━\u001b[0m\u001b[37m\u001b[0m \u001b[1m0s\u001b[0m 2ms/step - loss: 257.1828 - mean_absolute_error: 12.7259 - mean_absolute_percentage_error: 20.4343 - val_loss: 140.2597 - val_mean_absolute_error: 9.3832 - val_mean_absolute_percentage_error: 15.4651\n",
      "Epoch 7/100\n",
      "\u001b[1m58/58\u001b[0m \u001b[32m━━━━━━━━━━━━━━━━━━━━\u001b[0m\u001b[37m\u001b[0m \u001b[1m0s\u001b[0m 2ms/step - loss: 147.5870 - mean_absolute_error: 9.5165 - mean_absolute_percentage_error: 15.4638 - val_loss: 118.3559 - val_mean_absolute_error: 8.6960 - val_mean_absolute_percentage_error: 14.5731\n",
      "Epoch 8/100\n",
      "\u001b[1m58/58\u001b[0m \u001b[32m━━━━━━━━━━━━━━━━━━━━\u001b[0m\u001b[37m\u001b[0m \u001b[1m0s\u001b[0m 2ms/step - loss: 126.0787 - mean_absolute_error: 8.9175 - mean_absolute_percentage_error: 14.7295 - val_loss: 110.7642 - val_mean_absolute_error: 8.4332 - val_mean_absolute_percentage_error: 14.1605\n",
      "Epoch 9/100\n",
      "\u001b[1m58/58\u001b[0m \u001b[32m━━━━━━━━━━━━━━━━━━━━\u001b[0m\u001b[37m\u001b[0m \u001b[1m0s\u001b[0m 2ms/step - loss: 120.6913 - mean_absolute_error: 8.7122 - mean_absolute_percentage_error: 14.4731 - val_loss: 105.9275 - val_mean_absolute_error: 8.2590 - val_mean_absolute_percentage_error: 13.8914\n",
      "Epoch 10/100\n",
      "\u001b[1m58/58\u001b[0m \u001b[32m━━━━━━━━━━━━━━━━━━━━\u001b[0m\u001b[37m\u001b[0m \u001b[1m0s\u001b[0m 2ms/step - loss: 111.3101 - mean_absolute_error: 8.3967 - mean_absolute_percentage_error: 13.8958 - val_loss: 101.9782 - val_mean_absolute_error: 8.1142 - val_mean_absolute_percentage_error: 13.6588\n",
      "Epoch 11/100\n",
      "\u001b[1m58/58\u001b[0m \u001b[32m━━━━━━━━━━━━━━━━━━━━\u001b[0m\u001b[37m\u001b[0m \u001b[1m0s\u001b[0m 2ms/step - loss: 102.7767 - mean_absolute_error: 8.0926 - mean_absolute_percentage_error: 13.5489 - val_loss: 98.6124 - val_mean_absolute_error: 7.9758 - val_mean_absolute_percentage_error: 13.4161\n",
      "Epoch 12/100\n",
      "\u001b[1m58/58\u001b[0m \u001b[32m━━━━━━━━━━━━━━━━━━━━\u001b[0m\u001b[37m\u001b[0m \u001b[1m0s\u001b[0m 2ms/step - loss: 98.7344 - mean_absolute_error: 7.8979 - mean_absolute_percentage_error: 13.1562 - val_loss: 95.4716 - val_mean_absolute_error: 7.8599 - val_mean_absolute_percentage_error: 13.2407\n",
      "Epoch 13/100\n",
      "\u001b[1m58/58\u001b[0m \u001b[32m━━━━━━━━━━━━━━━━━━━━\u001b[0m\u001b[37m\u001b[0m \u001b[1m0s\u001b[0m 2ms/step - loss: 97.8889 - mean_absolute_error: 7.8400 - mean_absolute_percentage_error: 13.1907 - val_loss: 92.5319 - val_mean_absolute_error: 7.7389 - val_mean_absolute_percentage_error: 13.0393\n",
      "Epoch 14/100\n",
      "\u001b[1m58/58\u001b[0m \u001b[32m━━━━━━━━━━━━━━━━━━━━\u001b[0m\u001b[37m\u001b[0m \u001b[1m0s\u001b[0m 2ms/step - loss: 95.0187 - mean_absolute_error: 7.7018 - mean_absolute_percentage_error: 12.7585 - val_loss: 89.9135 - val_mean_absolute_error: 7.6224 - val_mean_absolute_percentage_error: 12.8237\n",
      "Epoch 15/100\n",
      "\u001b[1m58/58\u001b[0m \u001b[32m━━━━━━━━━━━━━━━━━━━━\u001b[0m\u001b[37m\u001b[0m \u001b[1m0s\u001b[0m 2ms/step - loss: 88.9973 - mean_absolute_error: 7.5013 - mean_absolute_percentage_error: 12.5333 - val_loss: 87.4157 - val_mean_absolute_error: 7.5131 - val_mean_absolute_percentage_error: 12.6611\n",
      "Epoch 16/100\n",
      "\u001b[1m58/58\u001b[0m \u001b[32m━━━━━━━━━━━━━━━━━━━━\u001b[0m\u001b[37m\u001b[0m \u001b[1m0s\u001b[0m 2ms/step - loss: 85.3680 - mean_absolute_error: 7.3118 - mean_absolute_percentage_error: 12.1017 - val_loss: 85.7108 - val_mean_absolute_error: 7.4238 - val_mean_absolute_percentage_error: 12.5007\n",
      "Epoch 17/100\n",
      "\u001b[1m58/58\u001b[0m \u001b[32m━━━━━━━━━━━━━━━━━━━━\u001b[0m\u001b[37m\u001b[0m \u001b[1m0s\u001b[0m 2ms/step - loss: 80.5684 - mean_absolute_error: 7.1656 - mean_absolute_percentage_error: 11.8043 - val_loss: 83.9670 - val_mean_absolute_error: 7.3419 - val_mean_absolute_percentage_error: 12.3658\n",
      "Epoch 18/100\n",
      "\u001b[1m58/58\u001b[0m \u001b[32m━━━━━━━━━━━━━━━━━━━━\u001b[0m\u001b[37m\u001b[0m \u001b[1m0s\u001b[0m 3ms/step - loss: 82.7125 - mean_absolute_error: 7.2380 - mean_absolute_percentage_error: 12.0076 - val_loss: 82.4402 - val_mean_absolute_error: 7.2776 - val_mean_absolute_percentage_error: 12.2839\n",
      "Epoch 19/100\n",
      "\u001b[1m58/58\u001b[0m \u001b[32m━━━━━━━━━━━━━━━━━━━━\u001b[0m\u001b[37m\u001b[0m \u001b[1m0s\u001b[0m 2ms/step - loss: 82.1282 - mean_absolute_error: 7.2298 - mean_absolute_percentage_error: 11.9797 - val_loss: 81.2228 - val_mean_absolute_error: 7.2029 - val_mean_absolute_percentage_error: 12.1436\n",
      "Epoch 20/100\n",
      "\u001b[1m58/58\u001b[0m \u001b[32m━━━━━━━━━━━━━━━━━━━━\u001b[0m\u001b[37m\u001b[0m \u001b[1m0s\u001b[0m 2ms/step - loss: 78.2069 - mean_absolute_error: 7.0761 - mean_absolute_percentage_error: 11.7039 - val_loss: 79.7877 - val_mean_absolute_error: 7.1354 - val_mean_absolute_percentage_error: 12.0375\n",
      "Epoch 21/100\n",
      "\u001b[1m58/58\u001b[0m \u001b[32m━━━━━━━━━━━━━━━━━━━━\u001b[0m\u001b[37m\u001b[0m \u001b[1m0s\u001b[0m 2ms/step - loss: 80.8211 - mean_absolute_error: 7.0313 - mean_absolute_percentage_error: 11.9452 - val_loss: 78.9053 - val_mean_absolute_error: 7.0917 - val_mean_absolute_percentage_error: 11.9746\n",
      "Epoch 22/100\n",
      "\u001b[1m58/58\u001b[0m \u001b[32m━━━━━━━━━━━━━━━━━━━━\u001b[0m\u001b[37m\u001b[0m \u001b[1m0s\u001b[0m 2ms/step - loss: 77.0133 - mean_absolute_error: 6.9330 - mean_absolute_percentage_error: 11.3919 - val_loss: 77.8336 - val_mean_absolute_error: 7.0175 - val_mean_absolute_percentage_error: 11.8274\n",
      "Epoch 23/100\n",
      "\u001b[1m58/58\u001b[0m \u001b[32m━━━━━━━━━━━━━━━━━━━━\u001b[0m\u001b[37m\u001b[0m \u001b[1m0s\u001b[0m 2ms/step - loss: 77.7785 - mean_absolute_error: 6.9654 - mean_absolute_percentage_error: 11.7493 - val_loss: 76.9959 - val_mean_absolute_error: 6.9759 - val_mean_absolute_percentage_error: 11.7553\n",
      "Epoch 24/100\n",
      "\u001b[1m58/58\u001b[0m \u001b[32m━━━━━━━━━━━━━━━━━━━━\u001b[0m\u001b[37m\u001b[0m \u001b[1m0s\u001b[0m 2ms/step - loss: 73.1686 - mean_absolute_error: 6.8080 - mean_absolute_percentage_error: 11.3962 - val_loss: 76.5921 - val_mean_absolute_error: 6.9647 - val_mean_absolute_percentage_error: 11.7620\n",
      "Epoch 25/100\n",
      "\u001b[1m58/58\u001b[0m \u001b[32m━━━━━━━━━━━━━━━━━━━━\u001b[0m\u001b[37m\u001b[0m \u001b[1m0s\u001b[0m 2ms/step - loss: 77.3564 - mean_absolute_error: 6.9458 - mean_absolute_percentage_error: 11.7009 - val_loss: 75.8474 - val_mean_absolute_error: 6.9237 - val_mean_absolute_percentage_error: 11.6908\n",
      "Epoch 26/100\n",
      "\u001b[1m58/58\u001b[0m \u001b[32m━━━━━━━━━━━━━━━━━━━━\u001b[0m\u001b[37m\u001b[0m \u001b[1m0s\u001b[0m 2ms/step - loss: 73.8818 - mean_absolute_error: 6.8635 - mean_absolute_percentage_error: 11.4499 - val_loss: 75.3253 - val_mean_absolute_error: 6.8820 - val_mean_absolute_percentage_error: 11.5939\n",
      "Epoch 27/100\n",
      "\u001b[1m58/58\u001b[0m \u001b[32m━━━━━━━━━━━━━━━━━━━━\u001b[0m\u001b[37m\u001b[0m \u001b[1m0s\u001b[0m 2ms/step - loss: 77.6056 - mean_absolute_error: 6.9393 - mean_absolute_percentage_error: 11.4976 - val_loss: 74.5685 - val_mean_absolute_error: 6.8359 - val_mean_absolute_percentage_error: 11.5098\n",
      "Epoch 28/100\n",
      "\u001b[1m58/58\u001b[0m \u001b[32m━━━━━━━━━━━━━━━━━━━━\u001b[0m\u001b[37m\u001b[0m \u001b[1m0s\u001b[0m 2ms/step - loss: 74.4382 - mean_absolute_error: 6.7638 - mean_absolute_percentage_error: 11.4121 - val_loss: 74.3891 - val_mean_absolute_error: 6.8517 - val_mean_absolute_percentage_error: 11.5802\n",
      "Epoch 29/100\n",
      "\u001b[1m58/58\u001b[0m \u001b[32m━━━━━━━━━━━━━━━━━━━━\u001b[0m\u001b[37m\u001b[0m \u001b[1m0s\u001b[0m 2ms/step - loss: 69.1801 - mean_absolute_error: 6.6027 - mean_absolute_percentage_error: 11.1653 - val_loss: 73.7703 - val_mean_absolute_error: 6.8095 - val_mean_absolute_percentage_error: 11.4772\n",
      "Epoch 30/100\n",
      "\u001b[1m58/58\u001b[0m \u001b[32m━━━━━━━━━━━━━━━━━━━━\u001b[0m\u001b[37m\u001b[0m \u001b[1m0s\u001b[0m 2ms/step - loss: 73.0675 - mean_absolute_error: 6.7500 - mean_absolute_percentage_error: 11.2211 - val_loss: 73.7327 - val_mean_absolute_error: 6.8247 - val_mean_absolute_percentage_error: 11.5547\n",
      "Epoch 31/100\n",
      "\u001b[1m58/58\u001b[0m \u001b[32m━━━━━━━━━━━━━━━━━━━━\u001b[0m\u001b[37m\u001b[0m \u001b[1m0s\u001b[0m 2ms/step - loss: 70.6725 - mean_absolute_error: 6.6923 - mean_absolute_percentage_error: 11.3776 - val_loss: 73.6078 - val_mean_absolute_error: 6.8072 - val_mean_absolute_percentage_error: 11.5111\n",
      "Epoch 32/100\n",
      "\u001b[1m58/58\u001b[0m \u001b[32m━━━━━━━━━━━━━━━━━━━━\u001b[0m\u001b[37m\u001b[0m \u001b[1m0s\u001b[0m 2ms/step - loss: 71.5425 - mean_absolute_error: 6.6491 - mean_absolute_percentage_error: 11.1178 - val_loss: 72.8965 - val_mean_absolute_error: 6.7839 - val_mean_absolute_percentage_error: 11.4550\n",
      "Epoch 33/100\n",
      "\u001b[1m58/58\u001b[0m \u001b[32m━━━━━━━━━━━━━━━━━━━━\u001b[0m\u001b[37m\u001b[0m \u001b[1m0s\u001b[0m 2ms/step - loss: 67.9118 - mean_absolute_error: 6.5621 - mean_absolute_percentage_error: 10.8295 - val_loss: 72.7713 - val_mean_absolute_error: 6.7554 - val_mean_absolute_percentage_error: 11.3758\n",
      "Epoch 34/100\n",
      "\u001b[1m58/58\u001b[0m \u001b[32m━━━━━━━━━━━━━━━━━━━━\u001b[0m\u001b[37m\u001b[0m \u001b[1m0s\u001b[0m 2ms/step - loss: 67.1690 - mean_absolute_error: 6.4595 - mean_absolute_percentage_error: 10.6858 - val_loss: 72.6304 - val_mean_absolute_error: 6.7519 - val_mean_absolute_percentage_error: 11.4082\n",
      "Epoch 35/100\n",
      "\u001b[1m58/58\u001b[0m \u001b[32m━━━━━━━━━━━━━━━━━━━━\u001b[0m\u001b[37m\u001b[0m \u001b[1m0s\u001b[0m 3ms/step - loss: 68.5538 - mean_absolute_error: 6.4689 - mean_absolute_percentage_error: 10.7145 - val_loss: 72.1688 - val_mean_absolute_error: 6.7116 - val_mean_absolute_percentage_error: 11.2692\n",
      "Epoch 36/100\n",
      "\u001b[1m58/58\u001b[0m \u001b[32m━━━━━━━━━━━━━━━━━━━━\u001b[0m\u001b[37m\u001b[0m \u001b[1m0s\u001b[0m 2ms/step - loss: 67.5315 - mean_absolute_error: 6.4367 - mean_absolute_percentage_error: 10.7138 - val_loss: 72.2169 - val_mean_absolute_error: 6.7297 - val_mean_absolute_percentage_error: 11.3720\n",
      "Epoch 37/100\n",
      "\u001b[1m58/58\u001b[0m \u001b[32m━━━━━━━━━━━━━━━━━━━━\u001b[0m\u001b[37m\u001b[0m \u001b[1m0s\u001b[0m 2ms/step - loss: 67.0571 - mean_absolute_error: 6.4730 - mean_absolute_percentage_error: 10.8348 - val_loss: 71.8788 - val_mean_absolute_error: 6.7056 - val_mean_absolute_percentage_error: 11.3008\n",
      "Epoch 38/100\n",
      "\u001b[1m58/58\u001b[0m \u001b[32m━━━━━━━━━━━━━━━━━━━━\u001b[0m\u001b[37m\u001b[0m \u001b[1m0s\u001b[0m 2ms/step - loss: 69.4134 - mean_absolute_error: 6.5080 - mean_absolute_percentage_error: 10.8139 - val_loss: 71.5583 - val_mean_absolute_error: 6.7041 - val_mean_absolute_percentage_error: 11.3137\n",
      "Epoch 39/100\n",
      "\u001b[1m58/58\u001b[0m \u001b[32m━━━━━━━━━━━━━━━━━━━━\u001b[0m\u001b[37m\u001b[0m \u001b[1m0s\u001b[0m 2ms/step - loss: 66.8571 - mean_absolute_error: 6.4616 - mean_absolute_percentage_error: 10.7481 - val_loss: 71.7538 - val_mean_absolute_error: 6.7281 - val_mean_absolute_percentage_error: 11.3916\n",
      "Epoch 40/100\n",
      "\u001b[1m58/58\u001b[0m \u001b[32m━━━━━━━━━━━━━━━━━━━━\u001b[0m\u001b[37m\u001b[0m \u001b[1m0s\u001b[0m 2ms/step - loss: 69.6976 - mean_absolute_error: 6.6262 - mean_absolute_percentage_error: 10.9412 - val_loss: 71.0702 - val_mean_absolute_error: 6.6718 - val_mean_absolute_percentage_error: 11.2598\n",
      "Epoch 41/100\n",
      "\u001b[1m58/58\u001b[0m \u001b[32m━━━━━━━━━━━━━━━━━━━━\u001b[0m\u001b[37m\u001b[0m \u001b[1m0s\u001b[0m 2ms/step - loss: 65.7578 - mean_absolute_error: 6.4224 - mean_absolute_percentage_error: 10.5569 - val_loss: 71.3619 - val_mean_absolute_error: 6.7011 - val_mean_absolute_percentage_error: 11.3433\n",
      "Epoch 42/100\n",
      "\u001b[1m58/58\u001b[0m \u001b[32m━━━━━━━━━━━━━━━━━━━━\u001b[0m\u001b[37m\u001b[0m \u001b[1m0s\u001b[0m 2ms/step - loss: 63.0538 - mean_absolute_error: 6.2975 - mean_absolute_percentage_error: 10.4782 - val_loss: 71.5181 - val_mean_absolute_error: 6.7199 - val_mean_absolute_percentage_error: 11.3963\n",
      "Epoch 43/100\n",
      "\u001b[1m58/58\u001b[0m \u001b[32m━━━━━━━━━━━━━━━━━━━━\u001b[0m\u001b[37m\u001b[0m \u001b[1m0s\u001b[0m 2ms/step - loss: 66.6328 - mean_absolute_error: 6.4384 - mean_absolute_percentage_error: 10.7137 - val_loss: 70.6234 - val_mean_absolute_error: 6.6525 - val_mean_absolute_percentage_error: 11.2349\n",
      "Epoch 44/100\n",
      "\u001b[1m58/58\u001b[0m \u001b[32m━━━━━━━━━━━━━━━━━━━━\u001b[0m\u001b[37m\u001b[0m \u001b[1m0s\u001b[0m 2ms/step - loss: 65.8156 - mean_absolute_error: 6.4023 - mean_absolute_percentage_error: 10.6363 - val_loss: 70.4147 - val_mean_absolute_error: 6.6275 - val_mean_absolute_percentage_error: 11.1500\n",
      "Epoch 45/100\n",
      "\u001b[1m58/58\u001b[0m \u001b[32m━━━━━━━━━━━━━━━━━━━━\u001b[0m\u001b[37m\u001b[0m \u001b[1m0s\u001b[0m 2ms/step - loss: 64.4134 - mean_absolute_error: 6.2846 - mean_absolute_percentage_error: 10.5100 - val_loss: 70.2219 - val_mean_absolute_error: 6.6284 - val_mean_absolute_percentage_error: 11.1655\n",
      "Epoch 46/100\n",
      "\u001b[1m58/58\u001b[0m \u001b[32m━━━━━━━━━━━━━━━━━━━━\u001b[0m\u001b[37m\u001b[0m \u001b[1m0s\u001b[0m 2ms/step - loss: 64.9248 - mean_absolute_error: 6.3212 - mean_absolute_percentage_error: 10.7132 - val_loss: 70.9860 - val_mean_absolute_error: 6.7047 - val_mean_absolute_percentage_error: 11.3860\n",
      "Epoch 47/100\n",
      "\u001b[1m58/58\u001b[0m \u001b[32m━━━━━━━━━━━━━━━━━━━━\u001b[0m\u001b[37m\u001b[0m \u001b[1m0s\u001b[0m 2ms/step - loss: 64.8753 - mean_absolute_error: 6.3899 - mean_absolute_percentage_error: 10.8694 - val_loss: 70.6536 - val_mean_absolute_error: 6.6682 - val_mean_absolute_percentage_error: 11.2933\n",
      "Epoch 48/100\n",
      "\u001b[1m58/58\u001b[0m \u001b[32m━━━━━━━━━━━━━━━━━━━━\u001b[0m\u001b[37m\u001b[0m \u001b[1m0s\u001b[0m 2ms/step - loss: 62.0991 - mean_absolute_error: 6.3016 - mean_absolute_percentage_error: 10.4492 - val_loss: 70.1009 - val_mean_absolute_error: 6.6340 - val_mean_absolute_percentage_error: 11.1997\n",
      "Epoch 49/100\n",
      "\u001b[1m58/58\u001b[0m \u001b[32m━━━━━━━━━━━━━━━━━━━━\u001b[0m\u001b[37m\u001b[0m \u001b[1m0s\u001b[0m 2ms/step - loss: 64.2656 - mean_absolute_error: 6.3506 - mean_absolute_percentage_error: 10.5398 - val_loss: 70.2206 - val_mean_absolute_error: 6.6261 - val_mean_absolute_percentage_error: 11.1679\n",
      "Epoch 50/100\n",
      "\u001b[1m58/58\u001b[0m \u001b[32m━━━━━━━━━━━━━━━━━━━━\u001b[0m\u001b[37m\u001b[0m \u001b[1m0s\u001b[0m 2ms/step - loss: 63.0124 - mean_absolute_error: 6.3436 - mean_absolute_percentage_error: 10.5723 - val_loss: 70.1014 - val_mean_absolute_error: 6.6301 - val_mean_absolute_percentage_error: 11.1896\n",
      "Epoch 51/100\n",
      "\u001b[1m58/58\u001b[0m \u001b[32m━━━━━━━━━━━━━━━━━━━━\u001b[0m\u001b[37m\u001b[0m \u001b[1m0s\u001b[0m 2ms/step - loss: 62.7383 - mean_absolute_error: 6.2626 - mean_absolute_percentage_error: 10.4441 - val_loss: 69.8932 - val_mean_absolute_error: 6.6241 - val_mean_absolute_percentage_error: 11.1799\n",
      "Epoch 52/100\n",
      "\u001b[1m58/58\u001b[0m \u001b[32m━━━━━━━━━━━━━━━━━━━━\u001b[0m\u001b[37m\u001b[0m \u001b[1m0s\u001b[0m 2ms/step - loss: 63.9012 - mean_absolute_error: 6.3573 - mean_absolute_percentage_error: 10.6368 - val_loss: 69.9213 - val_mean_absolute_error: 6.5982 - val_mean_absolute_percentage_error: 11.0831\n",
      "Epoch 53/100\n",
      "\u001b[1m58/58\u001b[0m \u001b[32m━━━━━━━━━━━━━━━━━━━━\u001b[0m\u001b[37m\u001b[0m \u001b[1m0s\u001b[0m 2ms/step - loss: 64.7310 - mean_absolute_error: 6.3540 - mean_absolute_percentage_error: 10.5215 - val_loss: 69.5282 - val_mean_absolute_error: 6.6027 - val_mean_absolute_percentage_error: 11.1425\n",
      "Epoch 54/100\n",
      "\u001b[1m58/58\u001b[0m \u001b[32m━━━━━━━━━━━━━━━━━━━━\u001b[0m\u001b[37m\u001b[0m \u001b[1m0s\u001b[0m 2ms/step - loss: 63.1700 - mean_absolute_error: 6.3574 - mean_absolute_percentage_error: 10.6251 - val_loss: 69.8128 - val_mean_absolute_error: 6.6095 - val_mean_absolute_percentage_error: 11.1361\n",
      "Epoch 55/100\n",
      "\u001b[1m58/58\u001b[0m \u001b[32m━━━━━━━━━━━━━━━━━━━━\u001b[0m\u001b[37m\u001b[0m \u001b[1m0s\u001b[0m 2ms/step - loss: 68.0115 - mean_absolute_error: 6.4976 - mean_absolute_percentage_error: 10.8835 - val_loss: 70.0201 - val_mean_absolute_error: 6.6314 - val_mean_absolute_percentage_error: 11.2092\n",
      "Epoch 56/100\n",
      "\u001b[1m58/58\u001b[0m \u001b[32m━━━━━━━━━━━━━━━━━━━━\u001b[0m\u001b[37m\u001b[0m \u001b[1m0s\u001b[0m 2ms/step - loss: 67.5199 - mean_absolute_error: 6.4599 - mean_absolute_percentage_error: 10.7051 - val_loss: 69.7880 - val_mean_absolute_error: 6.6086 - val_mean_absolute_percentage_error: 11.1554\n",
      "Epoch 57/100\n",
      "\u001b[1m58/58\u001b[0m \u001b[32m━━━━━━━━━━━━━━━━━━━━\u001b[0m\u001b[37m\u001b[0m \u001b[1m0s\u001b[0m 2ms/step - loss: 63.3362 - mean_absolute_error: 6.2359 - mean_absolute_percentage_error: 10.2982 - val_loss: 69.4483 - val_mean_absolute_error: 6.6048 - val_mean_absolute_percentage_error: 11.1377\n",
      "Epoch 58/100\n",
      "\u001b[1m58/58\u001b[0m \u001b[32m━━━━━━━━━━━━━━━━━━━━\u001b[0m\u001b[37m\u001b[0m \u001b[1m0s\u001b[0m 2ms/step - loss: 60.2411 - mean_absolute_error: 6.1373 - mean_absolute_percentage_error: 10.2531 - val_loss: 69.7502 - val_mean_absolute_error: 6.6168 - val_mean_absolute_percentage_error: 11.1726\n",
      "Epoch 59/100\n",
      "\u001b[1m58/58\u001b[0m \u001b[32m━━━━━━━━━━━━━━━━━━━━\u001b[0m\u001b[37m\u001b[0m \u001b[1m0s\u001b[0m 2ms/step - loss: 63.7108 - mean_absolute_error: 6.3734 - mean_absolute_percentage_error: 10.5759 - val_loss: 69.5865 - val_mean_absolute_error: 6.6279 - val_mean_absolute_percentage_error: 11.2089\n",
      "Epoch 60/100\n",
      "\u001b[1m58/58\u001b[0m \u001b[32m━━━━━━━━━━━━━━━━━━━━\u001b[0m\u001b[37m\u001b[0m \u001b[1m0s\u001b[0m 2ms/step - loss: 63.0568 - mean_absolute_error: 6.3157 - mean_absolute_percentage_error: 10.5449 - val_loss: 69.5561 - val_mean_absolute_error: 6.5980 - val_mean_absolute_percentage_error: 11.1373\n",
      "Epoch 61/100\n",
      "\u001b[1m58/58\u001b[0m \u001b[32m━━━━━━━━━━━━━━━━━━━━\u001b[0m\u001b[37m\u001b[0m \u001b[1m0s\u001b[0m 2ms/step - loss: 62.4735 - mean_absolute_error: 6.2220 - mean_absolute_percentage_error: 10.3822 - val_loss: 69.4317 - val_mean_absolute_error: 6.6058 - val_mean_absolute_percentage_error: 11.1608\n",
      "Epoch 62/100\n",
      "\u001b[1m58/58\u001b[0m \u001b[32m━━━━━━━━━━━━━━━━━━━━\u001b[0m\u001b[37m\u001b[0m \u001b[1m0s\u001b[0m 2ms/step - loss: 63.9368 - mean_absolute_error: 6.2468 - mean_absolute_percentage_error: 10.5206 - val_loss: 69.6122 - val_mean_absolute_error: 6.6201 - val_mean_absolute_percentage_error: 11.2081\n",
      "Epoch 63/100\n",
      "\u001b[1m58/58\u001b[0m \u001b[32m━━━━━━━━━━━━━━━━━━━━\u001b[0m\u001b[37m\u001b[0m \u001b[1m0s\u001b[0m 2ms/step - loss: 63.1328 - mean_absolute_error: 6.3048 - mean_absolute_percentage_error: 10.5322 - val_loss: 69.2314 - val_mean_absolute_error: 6.5995 - val_mean_absolute_percentage_error: 11.1510\n",
      "Epoch 64/100\n",
      "\u001b[1m58/58\u001b[0m \u001b[32m━━━━━━━━━━━━━━━━━━━━\u001b[0m\u001b[37m\u001b[0m \u001b[1m0s\u001b[0m 2ms/step - loss: 68.1894 - mean_absolute_error: 6.5551 - mean_absolute_percentage_error: 11.0303 - val_loss: 69.3057 - val_mean_absolute_error: 6.5892 - val_mean_absolute_percentage_error: 11.0971\n",
      "Epoch 65/100\n",
      "\u001b[1m58/58\u001b[0m \u001b[32m━━━━━━━━━━━━━━━━━━━━\u001b[0m\u001b[37m\u001b[0m \u001b[1m0s\u001b[0m 2ms/step - loss: 60.7620 - mean_absolute_error: 6.1543 - mean_absolute_percentage_error: 10.1781 - val_loss: 69.1218 - val_mean_absolute_error: 6.6031 - val_mean_absolute_percentage_error: 11.1585\n",
      "Epoch 66/100\n",
      "\u001b[1m58/58\u001b[0m \u001b[32m━━━━━━━━━━━━━━━━━━━━\u001b[0m\u001b[37m\u001b[0m \u001b[1m0s\u001b[0m 2ms/step - loss: 61.7634 - mean_absolute_error: 6.2532 - mean_absolute_percentage_error: 10.4121 - val_loss: 69.0204 - val_mean_absolute_error: 6.5666 - val_mean_absolute_percentage_error: 11.0539\n",
      "Epoch 67/100\n",
      "\u001b[1m58/58\u001b[0m \u001b[32m━━━━━━━━━━━━━━━━━━━━\u001b[0m\u001b[37m\u001b[0m \u001b[1m0s\u001b[0m 2ms/step - loss: 64.8259 - mean_absolute_error: 6.3350 - mean_absolute_percentage_error: 10.5290 - val_loss: 68.9450 - val_mean_absolute_error: 6.5681 - val_mean_absolute_percentage_error: 11.0658\n",
      "Epoch 68/100\n",
      "\u001b[1m58/58\u001b[0m \u001b[32m━━━━━━━━━━━━━━━━━━━━\u001b[0m\u001b[37m\u001b[0m \u001b[1m0s\u001b[0m 2ms/step - loss: 58.8483 - mean_absolute_error: 6.0890 - mean_absolute_percentage_error: 10.1202 - val_loss: 69.7986 - val_mean_absolute_error: 6.6617 - val_mean_absolute_percentage_error: 11.3267\n",
      "Epoch 69/100\n",
      "\u001b[1m58/58\u001b[0m \u001b[32m━━━━━━━━━━━━━━━━━━━━\u001b[0m\u001b[37m\u001b[0m \u001b[1m0s\u001b[0m 2ms/step - loss: 63.7736 - mean_absolute_error: 6.3393 - mean_absolute_percentage_error: 10.6562 - val_loss: 69.3188 - val_mean_absolute_error: 6.6117 - val_mean_absolute_percentage_error: 11.1783\n",
      "Epoch 70/100\n",
      "\u001b[1m58/58\u001b[0m \u001b[32m━━━━━━━━━━━━━━━━━━━━\u001b[0m\u001b[37m\u001b[0m \u001b[1m0s\u001b[0m 2ms/step - loss: 61.5592 - mean_absolute_error: 6.1625 - mean_absolute_percentage_error: 10.3011 - val_loss: 69.6715 - val_mean_absolute_error: 6.6452 - val_mean_absolute_percentage_error: 11.2934\n",
      "Epoch 71/100\n",
      "\u001b[1m58/58\u001b[0m \u001b[32m━━━━━━━━━━━━━━━━━━━━\u001b[0m\u001b[37m\u001b[0m \u001b[1m0s\u001b[0m 2ms/step - loss: 59.0698 - mean_absolute_error: 6.1229 - mean_absolute_percentage_error: 10.2078 - val_loss: 69.1788 - val_mean_absolute_error: 6.5854 - val_mean_absolute_percentage_error: 11.1021\n",
      "Epoch 72/100\n",
      "\u001b[1m58/58\u001b[0m \u001b[32m━━━━━━━━━━━━━━━━━━━━\u001b[0m\u001b[37m\u001b[0m \u001b[1m0s\u001b[0m 2ms/step - loss: 61.2290 - mean_absolute_error: 6.2043 - mean_absolute_percentage_error: 10.3029 - val_loss: 68.8974 - val_mean_absolute_error: 6.5694 - val_mean_absolute_percentage_error: 11.0593\n",
      "Epoch 73/100\n",
      "\u001b[1m58/58\u001b[0m \u001b[32m━━━━━━━━━━━━━━━━━━━━\u001b[0m\u001b[37m\u001b[0m \u001b[1m0s\u001b[0m 2ms/step - loss: 64.4712 - mean_absolute_error: 6.3771 - mean_absolute_percentage_error: 10.6113 - val_loss: 68.8862 - val_mean_absolute_error: 6.5766 - val_mean_absolute_percentage_error: 11.0677\n",
      "Epoch 74/100\n",
      "\u001b[1m58/58\u001b[0m \u001b[32m━━━━━━━━━━━━━━━━━━━━\u001b[0m\u001b[37m\u001b[0m \u001b[1m0s\u001b[0m 2ms/step - loss: 59.9345 - mean_absolute_error: 6.1520 - mean_absolute_percentage_error: 10.3118 - val_loss: 68.8402 - val_mean_absolute_error: 6.5890 - val_mean_absolute_percentage_error: 11.1308\n",
      "Epoch 75/100\n",
      "\u001b[1m58/58\u001b[0m \u001b[32m━━━━━━━━━━━━━━━━━━━━\u001b[0m\u001b[37m\u001b[0m \u001b[1m0s\u001b[0m 2ms/step - loss: 62.3589 - mean_absolute_error: 6.2497 - mean_absolute_percentage_error: 10.3848 - val_loss: 69.5155 - val_mean_absolute_error: 6.6505 - val_mean_absolute_percentage_error: 11.3001\n",
      "Epoch 76/100\n",
      "\u001b[1m58/58\u001b[0m \u001b[32m━━━━━━━━━━━━━━━━━━━━\u001b[0m\u001b[37m\u001b[0m \u001b[1m0s\u001b[0m 2ms/step - loss: 59.8900 - mean_absolute_error: 6.1458 - mean_absolute_percentage_error: 10.3564 - val_loss: 69.0574 - val_mean_absolute_error: 6.5642 - val_mean_absolute_percentage_error: 11.0049\n",
      "Epoch 77/100\n",
      "\u001b[1m58/58\u001b[0m \u001b[32m━━━━━━━━━━━━━━━━━━━━\u001b[0m\u001b[37m\u001b[0m \u001b[1m0s\u001b[0m 2ms/step - loss: 64.3013 - mean_absolute_error: 6.2740 - mean_absolute_percentage_error: 10.3781 - val_loss: 68.9774 - val_mean_absolute_error: 6.5923 - val_mean_absolute_percentage_error: 11.1492\n",
      "Epoch 78/100\n",
      "\u001b[1m58/58\u001b[0m \u001b[32m━━━━━━━━━━━━━━━━━━━━\u001b[0m\u001b[37m\u001b[0m \u001b[1m0s\u001b[0m 2ms/step - loss: 61.4579 - mean_absolute_error: 6.2398 - mean_absolute_percentage_error: 10.2626 - val_loss: 68.8739 - val_mean_absolute_error: 6.6016 - val_mean_absolute_percentage_error: 11.1596\n",
      "Epoch 79/100\n",
      "\u001b[1m58/58\u001b[0m \u001b[32m━━━━━━━━━━━━━━━━━━━━\u001b[0m\u001b[37m\u001b[0m \u001b[1m0s\u001b[0m 2ms/step - loss: 63.2307 - mean_absolute_error: 6.3070 - mean_absolute_percentage_error: 10.4086 - val_loss: 68.8885 - val_mean_absolute_error: 6.5860 - val_mean_absolute_percentage_error: 11.1009\n",
      "Epoch 80/100\n",
      "\u001b[1m58/58\u001b[0m \u001b[32m━━━━━━━━━━━━━━━━━━━━\u001b[0m\u001b[37m\u001b[0m \u001b[1m0s\u001b[0m 2ms/step - loss: 62.0970 - mean_absolute_error: 6.2233 - mean_absolute_percentage_error: 10.3582 - val_loss: 69.3197 - val_mean_absolute_error: 6.6311 - val_mean_absolute_percentage_error: 11.2465\n",
      "Epoch 81/100\n",
      "\u001b[1m58/58\u001b[0m \u001b[32m━━━━━━━━━━━━━━━━━━━━\u001b[0m\u001b[37m\u001b[0m \u001b[1m0s\u001b[0m 2ms/step - loss: 60.8324 - mean_absolute_error: 6.1994 - mean_absolute_percentage_error: 10.3080 - val_loss: 69.0548 - val_mean_absolute_error: 6.6195 - val_mean_absolute_percentage_error: 11.2150\n",
      "Epoch 82/100\n",
      "\u001b[1m58/58\u001b[0m \u001b[32m━━━━━━━━━━━━━━━━━━━━\u001b[0m\u001b[37m\u001b[0m \u001b[1m0s\u001b[0m 2ms/step - loss: 63.9030 - mean_absolute_error: 6.3266 - mean_absolute_percentage_error: 10.6211 - val_loss: 68.9562 - val_mean_absolute_error: 6.5884 - val_mean_absolute_percentage_error: 11.1059\n",
      "Epoch 83/100\n",
      "\u001b[1m58/58\u001b[0m \u001b[32m━━━━━━━━━━━━━━━━━━━━\u001b[0m\u001b[37m\u001b[0m \u001b[1m0s\u001b[0m 2ms/step - loss: 63.1680 - mean_absolute_error: 6.2836 - mean_absolute_percentage_error: 10.4531 - val_loss: 69.1395 - val_mean_absolute_error: 6.6138 - val_mean_absolute_percentage_error: 11.1970\n",
      "Epoch 84/100\n",
      "\u001b[1m58/58\u001b[0m \u001b[32m━━━━━━━━━━━━━━━━━━━━\u001b[0m\u001b[37m\u001b[0m \u001b[1m0s\u001b[0m 2ms/step - loss: 64.7708 - mean_absolute_error: 6.3187 - mean_absolute_percentage_error: 10.5265 - val_loss: 68.5112 - val_mean_absolute_error: 6.5410 - val_mean_absolute_percentage_error: 10.9519\n",
      "Epoch 85/100\n",
      "\u001b[1m58/58\u001b[0m \u001b[32m━━━━━━━━━━━━━━━━━━━━\u001b[0m\u001b[37m\u001b[0m \u001b[1m0s\u001b[0m 3ms/step - loss: 62.9613 - mean_absolute_error: 6.2494 - mean_absolute_percentage_error: 10.2591 - val_loss: 68.7611 - val_mean_absolute_error: 6.5849 - val_mean_absolute_percentage_error: 11.1044\n",
      "Epoch 86/100\n",
      "\u001b[1m58/58\u001b[0m \u001b[32m━━━━━━━━━━━━━━━━━━━━\u001b[0m\u001b[37m\u001b[0m \u001b[1m0s\u001b[0m 2ms/step - loss: 62.2974 - mean_absolute_error: 6.2070 - mean_absolute_percentage_error: 10.2470 - val_loss: 69.0792 - val_mean_absolute_error: 6.5327 - val_mean_absolute_percentage_error: 10.8740\n",
      "Epoch 87/100\n",
      "\u001b[1m58/58\u001b[0m \u001b[32m━━━━━━━━━━━━━━━━━━━━\u001b[0m\u001b[37m\u001b[0m \u001b[1m0s\u001b[0m 2ms/step - loss: 64.1162 - mean_absolute_error: 6.2484 - mean_absolute_percentage_error: 10.2421 - val_loss: 68.6942 - val_mean_absolute_error: 6.5649 - val_mean_absolute_percentage_error: 11.0427\n",
      "Epoch 88/100\n",
      "\u001b[1m58/58\u001b[0m \u001b[32m━━━━━━━━━━━━━━━━━━━━\u001b[0m\u001b[37m\u001b[0m \u001b[1m0s\u001b[0m 2ms/step - loss: 60.1248 - mean_absolute_error: 6.0934 - mean_absolute_percentage_error: 10.1607 - val_loss: 68.7257 - val_mean_absolute_error: 6.6110 - val_mean_absolute_percentage_error: 11.2019\n",
      "Epoch 89/100\n",
      "\u001b[1m58/58\u001b[0m \u001b[32m━━━━━━━━━━━━━━━━━━━━\u001b[0m\u001b[37m\u001b[0m \u001b[1m0s\u001b[0m 2ms/step - loss: 59.8854 - mean_absolute_error: 6.1192 - mean_absolute_percentage_error: 10.3118 - val_loss: 68.7437 - val_mean_absolute_error: 6.6117 - val_mean_absolute_percentage_error: 11.1965\n",
      "Epoch 90/100\n",
      "\u001b[1m58/58\u001b[0m \u001b[32m━━━━━━━━━━━━━━━━━━━━\u001b[0m\u001b[37m\u001b[0m \u001b[1m0s\u001b[0m 2ms/step - loss: 60.8629 - mean_absolute_error: 6.1753 - mean_absolute_percentage_error: 10.3759 - val_loss: 68.7381 - val_mean_absolute_error: 6.5969 - val_mean_absolute_percentage_error: 11.1520\n",
      "Epoch 91/100\n",
      "\u001b[1m58/58\u001b[0m \u001b[32m━━━━━━━━━━━━━━━━━━━━\u001b[0m\u001b[37m\u001b[0m \u001b[1m0s\u001b[0m 2ms/step - loss: 63.2426 - mean_absolute_error: 6.2230 - mean_absolute_percentage_error: 10.5345 - val_loss: 68.6447 - val_mean_absolute_error: 6.5642 - val_mean_absolute_percentage_error: 11.0343\n",
      "Epoch 92/100\n",
      "\u001b[1m58/58\u001b[0m \u001b[32m━━━━━━━━━━━━━━━━━━━━\u001b[0m\u001b[37m\u001b[0m \u001b[1m0s\u001b[0m 2ms/step - loss: 60.0898 - mean_absolute_error: 6.0595 - mean_absolute_percentage_error: 10.2218 - val_loss: 69.2186 - val_mean_absolute_error: 6.6382 - val_mean_absolute_percentage_error: 11.2819\n",
      "Epoch 93/100\n",
      "\u001b[1m58/58\u001b[0m \u001b[32m━━━━━━━━━━━━━━━━━━━━\u001b[0m\u001b[37m\u001b[0m \u001b[1m0s\u001b[0m 2ms/step - loss: 61.3803 - mean_absolute_error: 6.1981 - mean_absolute_percentage_error: 10.3516 - val_loss: 68.4437 - val_mean_absolute_error: 6.5562 - val_mean_absolute_percentage_error: 11.0126\n",
      "Epoch 94/100\n",
      "\u001b[1m58/58\u001b[0m \u001b[32m━━━━━━━━━━━━━━━━━━━━\u001b[0m\u001b[37m\u001b[0m \u001b[1m0s\u001b[0m 2ms/step - loss: 61.9419 - mean_absolute_error: 6.2183 - mean_absolute_percentage_error: 10.2518 - val_loss: 68.7528 - val_mean_absolute_error: 6.6312 - val_mean_absolute_percentage_error: 11.2633\n",
      "Epoch 95/100\n",
      "\u001b[1m58/58\u001b[0m \u001b[32m━━━━━━━━━━━━━━━━━━━━\u001b[0m\u001b[37m\u001b[0m \u001b[1m0s\u001b[0m 2ms/step - loss: 62.4515 - mean_absolute_error: 6.2429 - mean_absolute_percentage_error: 10.3243 - val_loss: 68.4306 - val_mean_absolute_error: 6.5457 - val_mean_absolute_percentage_error: 10.9739\n",
      "Epoch 96/100\n",
      "\u001b[1m58/58\u001b[0m \u001b[32m━━━━━━━━━━━━━━━━━━━━\u001b[0m\u001b[37m\u001b[0m \u001b[1m0s\u001b[0m 2ms/step - loss: 62.0080 - mean_absolute_error: 6.2466 - mean_absolute_percentage_error: 10.2423 - val_loss: 68.5071 - val_mean_absolute_error: 6.5453 - val_mean_absolute_percentage_error: 10.9605\n",
      "Epoch 97/100\n",
      "\u001b[1m58/58\u001b[0m \u001b[32m━━━━━━━━━━━━━━━━━━━━\u001b[0m\u001b[37m\u001b[0m \u001b[1m0s\u001b[0m 2ms/step - loss: 62.6981 - mean_absolute_error: 6.2817 - mean_absolute_percentage_error: 10.3760 - val_loss: 68.3402 - val_mean_absolute_error: 6.5679 - val_mean_absolute_percentage_error: 11.0751\n",
      "Epoch 98/100\n",
      "\u001b[1m58/58\u001b[0m \u001b[32m━━━━━━━━━━━━━━━━━━━━\u001b[0m\u001b[37m\u001b[0m \u001b[1m0s\u001b[0m 2ms/step - loss: 60.7701 - mean_absolute_error: 6.1759 - mean_absolute_percentage_error: 10.3009 - val_loss: 68.3596 - val_mean_absolute_error: 6.5599 - val_mean_absolute_percentage_error: 11.0360\n",
      "Epoch 99/100\n",
      "\u001b[1m58/58\u001b[0m \u001b[32m━━━━━━━━━━━━━━━━━━━━\u001b[0m\u001b[37m\u001b[0m \u001b[1m0s\u001b[0m 2ms/step - loss: 58.6463 - mean_absolute_error: 6.0835 - mean_absolute_percentage_error: 10.2026 - val_loss: 68.4567 - val_mean_absolute_error: 6.5547 - val_mean_absolute_percentage_error: 10.9938\n",
      "Epoch 100/100\n",
      "\u001b[1m58/58\u001b[0m \u001b[32m━━━━━━━━━━━━━━━━━━━━\u001b[0m\u001b[37m\u001b[0m \u001b[1m0s\u001b[0m 2ms/step - loss: 58.9795 - mean_absolute_error: 6.0212 - mean_absolute_percentage_error: 9.9423 - val_loss: 68.7902 - val_mean_absolute_error: 6.5759 - val_mean_absolute_percentage_error: 11.0453\n"
     ]
    },
    {
     "data": {
      "text/plain": [
       "<keras.src.callbacks.history.History at 0x27f67b106d0>"
      ]
     },
     "execution_count": 12,
     "metadata": {},
     "output_type": "execute_result"
    }
   ],
   "source": [
    "ann.fit(X_train_scaled, y_train, epochs=100, batch_size=50, validation_split=0.2)"
   ]
  },
  {
   "cell_type": "code",
   "execution_count": 13,
   "id": "f6ffb5c6",
   "metadata": {},
   "outputs": [
    {
     "data": {
      "text/html": [
       "<pre style=\"white-space:pre;overflow-x:auto;line-height:normal;font-family:Menlo,'DejaVu Sans Mono',consolas,'Courier New',monospace\"><span style=\"font-weight: bold\">Model: \"sequential\"</span>\n",
       "</pre>\n"
      ],
      "text/plain": [
       "\u001b[1mModel: \"sequential\"\u001b[0m\n"
      ]
     },
     "metadata": {},
     "output_type": "display_data"
    },
    {
     "data": {
      "text/html": [
       "<pre style=\"white-space:pre;overflow-x:auto;line-height:normal;font-family:Menlo,'DejaVu Sans Mono',consolas,'Courier New',monospace\">┏━━━━━━━━━━━━━━━━━━━━━━━━━━━━━━━━━┳━━━━━━━━━━━━━━━━━━━━━━━━┳━━━━━━━━━━━━━━━┓\n",
       "┃<span style=\"font-weight: bold\"> Layer (type)                    </span>┃<span style=\"font-weight: bold\"> Output Shape           </span>┃<span style=\"font-weight: bold\">       Param # </span>┃\n",
       "┡━━━━━━━━━━━━━━━━━━━━━━━━━━━━━━━━━╇━━━━━━━━━━━━━━━━━━━━━━━━╇━━━━━━━━━━━━━━━┩\n",
       "│ dense (<span style=\"color: #0087ff; text-decoration-color: #0087ff\">Dense</span>)                   │ (<span style=\"color: #00d7ff; text-decoration-color: #00d7ff\">None</span>, <span style=\"color: #00af00; text-decoration-color: #00af00\">20</span>)             │           <span style=\"color: #00af00; text-decoration-color: #00af00\">440</span> │\n",
       "├─────────────────────────────────┼────────────────────────┼───────────────┤\n",
       "│ dense_1 (<span style=\"color: #0087ff; text-decoration-color: #0087ff\">Dense</span>)                 │ (<span style=\"color: #00d7ff; text-decoration-color: #00d7ff\">None</span>, <span style=\"color: #00af00; text-decoration-color: #00af00\">20</span>)             │           <span style=\"color: #00af00; text-decoration-color: #00af00\">420</span> │\n",
       "├─────────────────────────────────┼────────────────────────┼───────────────┤\n",
       "│ dense_2 (<span style=\"color: #0087ff; text-decoration-color: #0087ff\">Dense</span>)                 │ (<span style=\"color: #00d7ff; text-decoration-color: #00d7ff\">None</span>, <span style=\"color: #00af00; text-decoration-color: #00af00\">1</span>)              │            <span style=\"color: #00af00; text-decoration-color: #00af00\">21</span> │\n",
       "└─────────────────────────────────┴────────────────────────┴───────────────┘\n",
       "</pre>\n"
      ],
      "text/plain": [
       "┏━━━━━━━━━━━━━━━━━━━━━━━━━━━━━━━━━┳━━━━━━━━━━━━━━━━━━━━━━━━┳━━━━━━━━━━━━━━━┓\n",
       "┃\u001b[1m \u001b[0m\u001b[1mLayer (type)                   \u001b[0m\u001b[1m \u001b[0m┃\u001b[1m \u001b[0m\u001b[1mOutput Shape          \u001b[0m\u001b[1m \u001b[0m┃\u001b[1m \u001b[0m\u001b[1m      Param #\u001b[0m\u001b[1m \u001b[0m┃\n",
       "┡━━━━━━━━━━━━━━━━━━━━━━━━━━━━━━━━━╇━━━━━━━━━━━━━━━━━━━━━━━━╇━━━━━━━━━━━━━━━┩\n",
       "│ dense (\u001b[38;5;33mDense\u001b[0m)                   │ (\u001b[38;5;45mNone\u001b[0m, \u001b[38;5;34m20\u001b[0m)             │           \u001b[38;5;34m440\u001b[0m │\n",
       "├─────────────────────────────────┼────────────────────────┼───────────────┤\n",
       "│ dense_1 (\u001b[38;5;33mDense\u001b[0m)                 │ (\u001b[38;5;45mNone\u001b[0m, \u001b[38;5;34m20\u001b[0m)             │           \u001b[38;5;34m420\u001b[0m │\n",
       "├─────────────────────────────────┼────────────────────────┼───────────────┤\n",
       "│ dense_2 (\u001b[38;5;33mDense\u001b[0m)                 │ (\u001b[38;5;45mNone\u001b[0m, \u001b[38;5;34m1\u001b[0m)              │            \u001b[38;5;34m21\u001b[0m │\n",
       "└─────────────────────────────────┴────────────────────────┴───────────────┘\n"
      ]
     },
     "metadata": {},
     "output_type": "display_data"
    },
    {
     "data": {
      "text/html": [
       "<pre style=\"white-space:pre;overflow-x:auto;line-height:normal;font-family:Menlo,'DejaVu Sans Mono',consolas,'Courier New',monospace\"><span style=\"font-weight: bold\"> Total params: </span><span style=\"color: #00af00; text-decoration-color: #00af00\">2,645</span> (10.34 KB)\n",
       "</pre>\n"
      ],
      "text/plain": [
       "\u001b[1m Total params: \u001b[0m\u001b[38;5;34m2,645\u001b[0m (10.34 KB)\n"
      ]
     },
     "metadata": {},
     "output_type": "display_data"
    },
    {
     "data": {
      "text/html": [
       "<pre style=\"white-space:pre;overflow-x:auto;line-height:normal;font-family:Menlo,'DejaVu Sans Mono',consolas,'Courier New',monospace\"><span style=\"font-weight: bold\"> Trainable params: </span><span style=\"color: #00af00; text-decoration-color: #00af00\">881</span> (3.44 KB)\n",
       "</pre>\n"
      ],
      "text/plain": [
       "\u001b[1m Trainable params: \u001b[0m\u001b[38;5;34m881\u001b[0m (3.44 KB)\n"
      ]
     },
     "metadata": {},
     "output_type": "display_data"
    },
    {
     "data": {
      "text/html": [
       "<pre style=\"white-space:pre;overflow-x:auto;line-height:normal;font-family:Menlo,'DejaVu Sans Mono',consolas,'Courier New',monospace\"><span style=\"font-weight: bold\"> Non-trainable params: </span><span style=\"color: #00af00; text-decoration-color: #00af00\">0</span> (0.00 B)\n",
       "</pre>\n"
      ],
      "text/plain": [
       "\u001b[1m Non-trainable params: \u001b[0m\u001b[38;5;34m0\u001b[0m (0.00 B)\n"
      ]
     },
     "metadata": {},
     "output_type": "display_data"
    },
    {
     "data": {
      "text/html": [
       "<pre style=\"white-space:pre;overflow-x:auto;line-height:normal;font-family:Menlo,'DejaVu Sans Mono',consolas,'Courier New',monospace\"><span style=\"font-weight: bold\"> Optimizer params: </span><span style=\"color: #00af00; text-decoration-color: #00af00\">1,764</span> (6.89 KB)\n",
       "</pre>\n"
      ],
      "text/plain": [
       "\u001b[1m Optimizer params: \u001b[0m\u001b[38;5;34m1,764\u001b[0m (6.89 KB)\n"
      ]
     },
     "metadata": {},
     "output_type": "display_data"
    }
   ],
   "source": [
    "ann.summary()"
   ]
  },
  {
   "cell_type": "code",
   "execution_count": 15,
   "id": "1879a080",
   "metadata": {},
   "outputs": [
    {
     "name": "stdout",
     "output_type": "stream",
     "text": [
      "\u001b[1m29/29\u001b[0m \u001b[32m━━━━━━━━━━━━━━━━━━━━\u001b[0m\u001b[37m\u001b[0m \u001b[1m0s\u001b[0m 2ms/step \n"
     ]
    }
   ],
   "source": [
    "y_pred = ann.predict(X_test_scaled)"
   ]
  },
  {
   "cell_type": "code",
   "execution_count": 17,
   "id": "7fb2c9e8",
   "metadata": {},
   "outputs": [],
   "source": [
    "def calcular_r2(y_test, y_pred):\n",
    "    \"\"\"\n",
    "    Calcula el coeficiente de determinación R^2 entre los valores reales y los predichos.\n",
    "\n",
    "    Parámetros:\n",
    "    y_test (array-like): Valores reales.\n",
    "    y_pred (array-like): Valores predichos.\n",
    "\n",
    "    Retorna:\n",
    "    float: Valor de R^2.\n",
    "    \"\"\"\n",
    "    y_test = np.array(y_test)\n",
    "    y_pred = np.array(y_pred)\n",
    "    ss_res = np.sum((y_test - y_pred) ** 2)\n",
    "    ss_tot = np.sum((y_test - np.mean(y_test)) ** 2)\n",
    "    r2 = 1 - (ss_res / ss_tot)\n",
    "    return r2"
   ]
  },
  {
   "cell_type": "code",
   "execution_count": 18,
   "id": "108c0c92",
   "metadata": {},
   "outputs": [
    {
     "name": "stdout",
     "output_type": "stream",
     "text": [
      "R^2: -1033.4746572136726\n"
     ]
    }
   ],
   "source": [
    "r2 = calcular_r2(y_test, y_pred)\n",
    "print(f'R^2: {r2}')"
   ]
  }
 ],
 "metadata": {
  "kernelspec": {
   "display_name": "base",
   "language": "python",
   "name": "python3"
  },
  "language_info": {
   "codemirror_mode": {
    "name": "ipython",
    "version": 3
   },
   "file_extension": ".py",
   "mimetype": "text/x-python",
   "name": "python",
   "nbconvert_exporter": "python",
   "pygments_lexer": "ipython3",
   "version": "3.10.18"
  }
 },
 "nbformat": 4,
 "nbformat_minor": 5
}
